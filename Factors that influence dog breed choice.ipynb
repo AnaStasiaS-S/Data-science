{
 "cells": [
  {
   "cell_type": "code",
   "execution_count": 4,
   "metadata": {},
   "outputs": [],
   "source": [
    "%matplotlib inline"
   ]
  },
  {
   "cell_type": "code",
   "execution_count": 5,
   "metadata": {},
   "outputs": [],
   "source": [
    "import numpy as np\n",
    "import pandas as pd\n",
    "import matplotlib.pyplot as plt\n",
    "\n",
    "# colour map for pie chart\n",
    "from matplotlib import cm\n",
    "\n",
    "import seaborn as sns\n",
    "\n",
    "plt.style.use('seaborn')\n",
    "from scipy import stats"
   ]
  },
  {
   "cell_type": "code",
   "execution_count": 6,
   "metadata": {},
   "outputs": [],
   "source": [
    "# Make figure size larger\n",
    "\n",
    "plt.rcParams.update({'figure.figsize': (10, 4)})"
   ]
  },
  {
   "cell_type": "markdown",
   "metadata": {},
   "source": [
    "# Factors that influence dog breed choice\n",
    "## Exploring animal intake and outcome of Animal Services; NYC dog license database \n",
    "### Author: AnaStasiaS-S\n",
    "\n",
    "\n",
    "\n",
    "### Summary \n",
    "\n",
    "The main purpose of this project is to find out which factors influence people's choices of dog breed. We will look into different types of factors such as breed popularity and intelligence level, dog size, etc. Along with this we will find out the main reasons of pets abandonment in Animal Services and outcome types from Animal Services. A part of the research will be dedicated to dog adoption, which will help to find out which are the most preferable dogs by people.\n",
    "\n",
    "\n",
    "\n",
    "### Introduction\n",
    "\n",
    "For the purposes of this research I took a dataset of [Louisville (KY, USA) Metro Open Data service](https://data.louisvilleky.gov/dataset/animal-service-intake-and-outcome) which provides data for the care and control of animals in the Louisville Metro area, USA. The dataset includes a list of all instances of animals brought into Animal Services with outcomes. \n",
    "\n",
    "We will read the data from csv file, clean it and make some exploratory data analysis. Afterwards we will see how popular and intelligent are the dogs accommodated in Animal Services. For this we will take another two datasets:\n",
    "* [Dog intelligence](https://data.world/len/intelligence-of-dogs), based on research by Stanley Coren, a professor of canine psychology at the University of British Columbia.\n",
    "* [Breed popularity through years](https://www.akc.org/most-popular-breeds/), provided by American Kennel Club\n",
    "\n",
    "And finally we will take [NYC Dog Licensing Dataset](https://data.cityofnewyork.us/Health/NYC-Dog-Licensing-Dataset/nu7n-tubp) to compare it with Animal services dataset. \n",
    "\n",
    "\n",
    "\n",
    "# Exploring Animal services dataset\n",
    "\n",
    "\n",
    "#### Data dictionary:\n",
    "\n",
    "* Animal ID - A generated unique identification when an animal's information is stored in the Chameleon Data Base\n",
    "* Animal Type - Type of animal\n",
    "* Intake Date - The date that the animal arrives at Metro Animal Services\n",
    "* Intake Type - The reason the animal is at Metro Animal Services\n",
    "* Intake Subtype - A secondary but more in depth reason why the animal is at Metro Animal Services\n",
    "* Primary Color - The color that is most prevalent in the animal\n",
    "* Primary Breed - The breed of the animal or the breed the animal looks like the most\n",
    "* Secondary Breed - The other breed that the animal looks like\n",
    "* Gender - Sex of the animal\n",
    "* Secondary Color - A further description of the animal's color\n",
    "* DOB - The date of birth of the animal or an estimated date of birth\n",
    "* Intake Reason - The primary reason the animal is at Metro Animal Services\n",
    "* Outcome Date - The date the outcome is entered if no outcome date is available the animal is still in the shelter\n",
    "* Outcome Type - The type of outcome for the animal that can include returned to owner, adoption, sent to a rescue, etc.\n",
    "* Outcome Subtype - A secondary, more in depth definition of the outcome type (ex. Transfer, rescue group vs. Transfer, KHS)\n",
    "\n",
    "### Reading the data "
   ]
  },
  {
   "cell_type": "code",
   "execution_count": 7,
   "metadata": {},
   "outputs": [
    {
     "name": "stdout",
     "output_type": "stream",
     "text": [
      "<class 'pandas.core.frame.DataFrame'>\n",
      "RangeIndex: 150842 entries, 0 to 150841\n",
      "Data columns (total 22 columns):\n",
      "AnimalID                       150842 non-null object\n",
      "AnimalType                     150842 non-null object\n",
      "IntakeDate                     150842 non-null object\n",
      "IntakeType                     150842 non-null object\n",
      "IntakeSubtype                  146286 non-null object\n",
      "PrimaryColor                   150825 non-null object\n",
      "PrimaryBreed                   150842 non-null object\n",
      "SecondaryBreed                 40532 non-null object\n",
      "Gender                         150842 non-null object\n",
      "SecondaryColor                 80579 non-null object\n",
      "DOB                            94618 non-null object\n",
      "IntakeReason                   34805 non-null object\n",
      "IntakeInternalStatus           150842 non-null object\n",
      "IntakeAsilomarStatus           150842 non-null object\n",
      "ReproductiveStatusAtIntake     150842 non-null object\n",
      "OutcomeDate                    150640 non-null object\n",
      "OutcomeType                    150390 non-null object\n",
      "OutcomeSubtype                 123860 non-null object\n",
      "OutcomeReason                  0 non-null float64\n",
      "OutcomeInternalStatus          49721 non-null object\n",
      "OutcomeAsilomarStatus          150640 non-null object\n",
      "ReproductiveStatusAtOutcome    150640 non-null object\n",
      "dtypes: float64(1), object(21)\n",
      "memory usage: 13.2+ MB\n"
     ]
    }
   ],
   "source": [
    "animals_data = pd.read_csv(\"animal-service-intake-and-outcome.csv\")\n",
    "animals_data.info()"
   ]
  },
  {
   "cell_type": "markdown",
   "metadata": {},
   "source": [
    "We will keep only columns and values needed for the purposes of this project. For example we are not interested in information about `Animal ID`, `SecondaryBreed`, `SecondaryColor`, etc. We will consider `PrimaryBreed` as the only breed the animal has and `PrimaryColor` as the main color. Also let's make column names more \"pythonic\" and remove NaT values from `outcome_date` column."
   ]
  },
  {
   "cell_type": "code",
   "execution_count": 8,
   "metadata": {},
   "outputs": [],
   "source": [
    "# select columns\n",
    "\n",
    "animals_data = animals_data[[\n",
    "    'AnimalType', \n",
    "    'IntakeDate', \n",
    "    'IntakeType', \n",
    "    'PrimaryColor', \n",
    "    'PrimaryBreed', \n",
    "    'Gender',\n",
    "    'DOB',\n",
    "    'IntakeReason',\n",
    "    'IntakeAsilomarStatus',\n",
    "    'OutcomeDate',\n",
    "    'OutcomeType',\n",
    "    'OutcomeSubtype',\n",
    "    'OutcomeAsilomarStatus'    \n",
    "]]"
   ]
  },
  {
   "cell_type": "code",
   "execution_count": 9,
   "metadata": {},
   "outputs": [],
   "source": [
    "# rename columns\n",
    "\n",
    "animals_data.columns = [\n",
    "    \"animal_type\",\n",
    "    \"intake_date\",\n",
    "    \"intake_type\",\n",
    "    \"color\",\n",
    "    \"breed\",\n",
    "    \"gender\",\n",
    "    \"birth_date\",\n",
    "    \"intake_reason\",\n",
    "    \"intake_health_status\",\n",
    "    \"outcome_date\",\n",
    "    \"outcome_type\", \n",
    "    \"outcome_subtype\", \n",
    "    \"outcome_health_status\",\n",
    "]"
   ]
  },
  {
   "cell_type": "code",
   "execution_count": 10,
   "metadata": {},
   "outputs": [],
   "source": [
    "# remove NaT values as there are a very few of them\n",
    "\n",
    "animals_data = animals_data.dropna(subset=['outcome_date'])"
   ]
  },
  {
   "cell_type": "code",
   "execution_count": 11,
   "metadata": {},
   "outputs": [
    {
     "data": {
      "text/html": [
       "<div>\n",
       "<style scoped>\n",
       "    .dataframe tbody tr th:only-of-type {\n",
       "        vertical-align: middle;\n",
       "    }\n",
       "\n",
       "    .dataframe tbody tr th {\n",
       "        vertical-align: top;\n",
       "    }\n",
       "\n",
       "    .dataframe thead th {\n",
       "        text-align: right;\n",
       "    }\n",
       "</style>\n",
       "<table border=\"1\" class=\"dataframe\">\n",
       "  <thead>\n",
       "    <tr style=\"text-align: right;\">\n",
       "      <th></th>\n",
       "      <th>animal_type</th>\n",
       "      <th>intake_date</th>\n",
       "      <th>intake_type</th>\n",
       "      <th>color</th>\n",
       "      <th>breed</th>\n",
       "      <th>gender</th>\n",
       "      <th>birth_date</th>\n",
       "      <th>intake_reason</th>\n",
       "      <th>intake_health_status</th>\n",
       "      <th>outcome_date</th>\n",
       "      <th>outcome_type</th>\n",
       "      <th>outcome_subtype</th>\n",
       "      <th>outcome_health_status</th>\n",
       "    </tr>\n",
       "  </thead>\n",
       "  <tbody>\n",
       "    <tr>\n",
       "      <th>0</th>\n",
       "      <td>CAT</td>\n",
       "      <td>2008-11-07 10:50:00</td>\n",
       "      <td>STRAY</td>\n",
       "      <td>WHITE</td>\n",
       "      <td>DOMESTIC SHORTHAIR</td>\n",
       "      <td>NEUTERED MALE</td>\n",
       "      <td>NaN</td>\n",
       "      <td>NaN</td>\n",
       "      <td>HEALTHY</td>\n",
       "      <td>2008-11-12 15:46:00</td>\n",
       "      <td>EUTH</td>\n",
       "      <td>FERAL</td>\n",
       "      <td>UNHEALTHY/UNTREATABLE</td>\n",
       "    </tr>\n",
       "    <tr>\n",
       "      <th>1</th>\n",
       "      <td>CAT</td>\n",
       "      <td>2008-11-10 10:20:00</td>\n",
       "      <td>STRAY</td>\n",
       "      <td>BLACK</td>\n",
       "      <td>DOMESTIC SHORTHAIR</td>\n",
       "      <td>UNKNOWN</td>\n",
       "      <td>NaN</td>\n",
       "      <td>STRAY</td>\n",
       "      <td>HEALTHY</td>\n",
       "      <td>2008-11-19 20:10:00</td>\n",
       "      <td>EUTH</td>\n",
       "      <td>CONTAG DIS</td>\n",
       "      <td>HEALTHY</td>\n",
       "    </tr>\n",
       "    <tr>\n",
       "      <th>2</th>\n",
       "      <td>BIRD</td>\n",
       "      <td>2014-07-23 23:21:00</td>\n",
       "      <td>CONFISCATE</td>\n",
       "      <td>RED</td>\n",
       "      <td>CHICKEN</td>\n",
       "      <td>MALE</td>\n",
       "      <td>NaN</td>\n",
       "      <td>NaN</td>\n",
       "      <td>HEALTHY</td>\n",
       "      <td>2014-11-05 15:49:00</td>\n",
       "      <td>TRANSFER</td>\n",
       "      <td>NaN</td>\n",
       "      <td>HEALTHY</td>\n",
       "    </tr>\n",
       "    <tr>\n",
       "      <th>3</th>\n",
       "      <td>OTHER</td>\n",
       "      <td>2014-07-24 18:29:00</td>\n",
       "      <td>ET REQUEST</td>\n",
       "      <td>BROWN</td>\n",
       "      <td>BAT</td>\n",
       "      <td>UNKNOWN</td>\n",
       "      <td>NaN</td>\n",
       "      <td>NaN</td>\n",
       "      <td>HEALTHY</td>\n",
       "      <td>2014-07-24 23:59:00</td>\n",
       "      <td>EUTH</td>\n",
       "      <td>MEDICAL</td>\n",
       "      <td>HEALTHY</td>\n",
       "    </tr>\n",
       "    <tr>\n",
       "      <th>4</th>\n",
       "      <td>DOG</td>\n",
       "      <td>2006-09-11 18:10:00</td>\n",
       "      <td>OWNER SUR</td>\n",
       "      <td>WHITE</td>\n",
       "      <td>PIT BULL TERRIER</td>\n",
       "      <td>MALE</td>\n",
       "      <td>2005-09-11 00:00:00</td>\n",
       "      <td>NO TIME</td>\n",
       "      <td>HEALTHY</td>\n",
       "      <td>2006-09-12 13:44:00</td>\n",
       "      <td>EUTH</td>\n",
       "      <td>TIME/SPACE</td>\n",
       "      <td>HEALTHY</td>\n",
       "    </tr>\n",
       "  </tbody>\n",
       "</table>\n",
       "</div>"
      ],
      "text/plain": [
       "  animal_type          intake_date intake_type  color               breed  \\\n",
       "0         CAT  2008-11-07 10:50:00       STRAY  WHITE  DOMESTIC SHORTHAIR   \n",
       "1         CAT  2008-11-10 10:20:00       STRAY  BLACK  DOMESTIC SHORTHAIR   \n",
       "2        BIRD  2014-07-23 23:21:00  CONFISCATE    RED             CHICKEN   \n",
       "3       OTHER  2014-07-24 18:29:00  ET REQUEST  BROWN                 BAT   \n",
       "4         DOG  2006-09-11 18:10:00   OWNER SUR  WHITE    PIT BULL TERRIER   \n",
       "\n",
       "          gender           birth_date intake_reason intake_health_status  \\\n",
       "0  NEUTERED MALE                  NaN           NaN              HEALTHY   \n",
       "1        UNKNOWN                  NaN         STRAY              HEALTHY   \n",
       "2           MALE                  NaN           NaN              HEALTHY   \n",
       "3        UNKNOWN                  NaN           NaN              HEALTHY   \n",
       "4           MALE  2005-09-11 00:00:00       NO TIME              HEALTHY   \n",
       "\n",
       "          outcome_date outcome_type outcome_subtype  outcome_health_status  \n",
       "0  2008-11-12 15:46:00         EUTH           FERAL  UNHEALTHY/UNTREATABLE  \n",
       "1  2008-11-19 20:10:00         EUTH      CONTAG DIS                HEALTHY  \n",
       "2  2014-11-05 15:49:00     TRANSFER             NaN                HEALTHY  \n",
       "3  2014-07-24 23:59:00         EUTH         MEDICAL                HEALTHY  \n",
       "4  2006-09-12 13:44:00         EUTH      TIME/SPACE                HEALTHY  "
      ]
     },
     "execution_count": 11,
     "metadata": {},
     "output_type": "execute_result"
    }
   ],
   "source": [
    "animals_data.head()"
   ]
  },
  {
   "cell_type": "markdown",
   "metadata": {},
   "source": [
    "Almost all the columns of the dataset have datatype $object$. That's why the next step will be to update data type where needed. We will convert  `itake_date` and `outcome_date` to $datetime$ type and take only the date part from it as we do not need minutes. "
   ]
  },
  {
   "cell_type": "code",
   "execution_count": 12,
   "metadata": {},
   "outputs": [],
   "source": [
    "animals_data.intake_date = pd.to_datetime(animals_data.intake_date).dt.date\n",
    "animals_data.intake_date = pd.to_datetime(animals_data.intake_date)\n",
    "animals_data.outcome_date = pd.to_datetime(animals_data.outcome_date).dt.date\n",
    "animals_data.outcome_date = pd.to_datetime(animals_data.outcome_date)"
   ]
  },
  {
   "cell_type": "markdown",
   "metadata": {},
   "source": [
    "### For which years we have the data?"
   ]
  },
  {
   "cell_type": "code",
   "execution_count": 13,
   "metadata": {},
   "outputs": [
    {
     "data": {
      "text/plain": [
       "intake_date\n",
       "2001        1\n",
       "2002        1\n",
       "2003        1\n",
       "2004        3\n",
       "2005     8410\n",
       "2006    13949\n",
       "2007    14813\n",
       "2008    15722\n",
       "2009    15283\n",
       "2010    14341\n",
       "2011    11974\n",
       "2012    10509\n",
       "2013    10631\n",
       "2014     9347\n",
       "2015     8717\n",
       "2016     8274\n",
       "2017     8628\n",
       "2018       36\n",
       "dtype: int64"
      ]
     },
     "execution_count": 13,
     "metadata": {},
     "output_type": "execute_result"
    }
   ],
   "source": [
    "# filter by intake date\n",
    "\n",
    "animals_data.groupby(animals_data.intake_date.dt.year).size()"
   ]
  },
  {
   "cell_type": "code",
   "execution_count": 14,
   "metadata": {},
   "outputs": [
    {
     "data": {
      "text/plain": [
       "outcome_date\n",
       "1950        1\n",
       "1960        1\n",
       "1970        2\n",
       "2002        2\n",
       "2003        3\n",
       "2004        1\n",
       "2005     8106\n",
       "2006    13913\n",
       "2007    14804\n",
       "2008    15647\n",
       "2009    15160\n",
       "2010    14366\n",
       "2011    12082\n",
       "2012    10579\n",
       "2013    10656\n",
       "2014     9396\n",
       "2015     8537\n",
       "2016     8405\n",
       "2017     8888\n",
       "2018       91\n",
       "dtype: int64"
      ]
     },
     "execution_count": 14,
     "metadata": {},
     "output_type": "execute_result"
    }
   ],
   "source": [
    "# filter by outcome date\n",
    "\n",
    "animals_data.groupby(animals_data.outcome_date.dt.year).size()"
   ]
  },
  {
   "cell_type": "markdown",
   "metadata": {},
   "source": [
    "The first thing we see here is that intake and outcome number are very similar through the years.\n",
    "\n",
    "The numbers before 2005 and after 2018 years are very low, probably collecting and/or recording the data began from 2005 onwards and for 2018 year data is not full. We will exclude these \"incomplete\" years from the dataset."
   ]
  },
  {
   "cell_type": "code",
   "execution_count": 15,
   "metadata": {},
   "outputs": [],
   "source": [
    "animals_data = animals_data[(animals_data.intake_date.dt.year >= 2005) & (animals_data.intake_date.dt.year <= 2017) & (animals_data.outcome_date.dt.year >= 2005) & (animals_data.outcome_date.dt.year <= 2017)]\n",
    "intakes_by_year = animals_data.groupby(animals_data.intake_date.dt.year).size()\n",
    "outcomes_by_year = animals_data.groupby(animals_data.outcome_date.dt.year).size()"
   ]
  },
  {
   "cell_type": "code",
   "execution_count": 16,
   "metadata": {},
   "outputs": [
    {
     "data": {
      "image/png": "[encoded data removed]",
      "text/plain": [
       "<Figure size 720x288 with 1 Axes>"
      ]
     },
     "metadata": {},
     "output_type": "display_data"
    }
   ],
   "source": [
    "plt.plot(intakes_by_year, '-', label = 'Intakes')\n",
    "plt.plot(outcomes_by_year, '-', label = 'Outcomes')\n",
    "plt.legend(fontsize=15, markerfirst = False, frameon = True, facecolor = \"White\")\n",
    "plt.title(\"Comparison of number of intakes and outcomes through the years\", {'fontsize': 16})\n",
    "plt.ylabel(\"Number\")\n",
    "plt.xlabel(\"Years\")\n",
    "plt.show()"
   ]
  },
  {
   "cell_type": "markdown",
   "metadata": {},
   "source": [
    "Now the dataset is more or less cleaned and looks like the following:"
   ]
  },
  {
   "cell_type": "code",
   "execution_count": 17,
   "metadata": {},
   "outputs": [
    {
     "name": "stdout",
     "output_type": "stream",
     "text": [
      "<class 'pandas.core.frame.DataFrame'>\n",
      "Int64Index: 150533 entries, 0 to 150841\n",
      "Data columns (total 13 columns):\n",
      "animal_type              150533 non-null object\n",
      "intake_date              150533 non-null datetime64[ns]\n",
      "intake_type              150533 non-null object\n",
      "color                    150516 non-null object\n",
      "breed                    150533 non-null object\n",
      "gender                   150533 non-null object\n",
      "birth_date               94338 non-null object\n",
      "intake_reason            34511 non-null object\n",
      "intake_health_status     150533 non-null object\n",
      "outcome_date             150533 non-null datetime64[ns]\n",
      "outcome_type             150272 non-null object\n",
      "outcome_subtype          123760 non-null object\n",
      "outcome_health_status    150533 non-null object\n",
      "dtypes: datetime64[ns](2), object(11)\n",
      "memory usage: 9.8+ MB\n"
     ]
    }
   ],
   "source": [
    "animals_data.info()"
   ]
  },
  {
   "cell_type": "markdown",
   "metadata": {},
   "source": [
    "As we see, the data set includes 150533 entries of pet characteristics and the reasons of their intake and outcome. First of all it will be interesting to see what species come to Animal Services and for what reason. \n",
    "\n",
    "### Reasons for animal intake"
   ]
  },
  {
   "cell_type": "markdown",
   "metadata": {},
   "source": [
    "First, we will examine the intake reasons. For this the data will be grouped by intake type and presented using bar chart. \n",
    "\n",
    "We have two columns that hold this information : `intake_reason` and `intake_type`. We will look into both of them. The first one holds the primary reason of surrendering the animal to Metro Animal Services. "
   ]
  },
  {
   "cell_type": "code",
   "execution_count": 18,
   "metadata": {},
   "outputs": [],
   "source": [
    "def barh(dataset, group_column, chart_title, xlabel_title):\n",
    "    categories = None\n",
    "    chart_by_category = None\n",
    "    '''\n",
    "    Draw horizontal bar chart for first 15 grouped values of selected column\n",
    "    \n",
    "    Parameters:\n",
    "    - dataset (DataFrame) \n",
    "    - group_column (str)\n",
    "    - chart_title (str)\n",
    "    - xlabel_title (str)\n",
    "    \n",
    "    Returns:\n",
    "    horizontal bar chart\n",
    "    '''\n",
    "    categories = dataset.groupby(group_column).size()\n",
    "    categories = categories.sort_values().tail(15)\n",
    "    \n",
    "    y_pos = np.arange(len(categories.index))\n",
    "    chart_by_category = plt.barh(y_pos,categories)\n",
    "    plt.xlabel(xlabel_title, fontsize=13)\n",
    "    plt.yticks(y_pos, categories.index, fontsize=10)\n",
    "    plt.title(chart_title, fontsize = 20)\n",
    "    plt.show()"
   ]
  },
  {
   "cell_type": "code",
   "execution_count": 19,
   "metadata": {},
   "outputs": [
    {
     "data": {
      "image/png": "[encoded data removed]",
      "text/plain": [
       "<Figure size 720x288 with 1 Axes>"
      ]
     },
     "metadata": {},
     "output_type": "display_data"
    }
   ],
   "source": [
    "barh(animals_data, 'intake_type', 'Most popular intake types', 'Number')"
   ]
  },
  {
   "cell_type": "markdown",
   "metadata": {},
   "source": [
    "In the above chart we see that the main intake types occurred to be **STRAY** and **OWNER SUR**render. Also, our data could be cleaned a little bit more, as for example group **EUTH REQ** in my opinion is the same as **ET REQUEST**, but we won't do this as the point of this data visualization is to see the most common types of animal intake.\n",
    "\n",
    "Next, let's see why owners surrender animals to Animal Services:"
   ]
  },
  {
   "cell_type": "code",
   "execution_count": 20,
   "metadata": {},
   "outputs": [
    {
     "data": {
      "image/png": "[encoded data removed]",
      "text/plain": [
       "<Figure size 720x288 with 1 Axes>"
      ]
     },
     "metadata": {},
     "output_type": "display_data"
    }
   ],
   "source": [
    "barh(animals_data, 'intake_reason', 'Primary intake reasons', 'Number')"
   ]
  },
  {
   "cell_type": "markdown",
   "metadata": {},
   "source": [
    "The image above is super clear and gives a lot of information about the main reasons. \n",
    "We see that there is a number of **STRAY** animals which were saved from the streets but almost all the others reasons (about 75 in total) are about former pets which were abandoned by their owners for different kinds of reasons."
   ]
  },
  {
   "cell_type": "code",
   "execution_count": 21,
   "metadata": {},
   "outputs": [
    {
     "data": {
      "text/plain": [
       "array([nan, 'STRAY', 'NO TIME', 'TOO MANY', 'COST', 'ABANDON',\n",
       "       'WONT ALLOW', 'HOUSE SOIL', 'FACILITY', 'UNKNOWN', 'ILL', 'MOVE',\n",
       "       'ALLERGIC', 'RESPONSIBL', 'DOA', 'TOO OLD', 'ESCAPES', 'LANDLORD',\n",
       "       'OWNER PROB', 'DIVORCE', 'INJURED', 'AGG PEOPLE', 'TOO YOUNG',\n",
       "       'FOUND ANIM', 'AGG ANIMAL', 'VOCAL', 'BITES', 'EUTH BEHAV',\n",
       "       'DESTRUC IN', 'EUTH OLD', 'NO HOME', 'FOSTER', 'CHASES PEO',\n",
       "       'OTHER PET', 'ATTENTION', 'KILLS ANIM', 'NOFRIENDLY', 'EUTH ILL',\n",
       "       'NEW BABY', 'BOX ODOR', 'DESTRUC OT', 'EUTH OTHER', 'GIFT',\n",
       "       'OWNER DIED', 'SHEDS', 'HYPER', 'WRONG SPEC', 'REPORT',\n",
       "       'CHILD PROB', 'FENCE', 'TOO BIG', 'AFRAID', 'DISOBIDIEN',\n",
       "       'SURG PROB', 'CRUELTY', 'WILDLIFE', 'TOO SMALL', 'JUMPS UP',\n",
       "       'WANTS OUT', 'EUTH YOUNG', 'COMPET ATT', 'VIOLATION', 'CHASES CAR',\n",
       "       'DULL', 'TRAVEL', 'NO PROTECT', 'CHASES ANI', 'OWNER MED',\n",
       "       'TRANSFER', 'PICA', 'WRONG SEX', 'ZONE', 'COPROPHAGY', 'UW ALTER',\n",
       "       'AGG FEAR', 'PETMEDICAL', 'AGG FOOD'], dtype=object)"
      ]
     },
     "execution_count": 21,
     "metadata": {},
     "output_type": "execute_result"
    }
   ],
   "source": [
    "animals_data.intake_reason.unique()"
   ]
  },
  {
   "cell_type": "markdown",
   "metadata": {},
   "source": [
    "From the list above we see that there are reasons like **DULL**, **GIFT**, **COPROPHAGY** (whatever this means?), **TOO BIG**, **TOO SMALL**,.. Let's see how many of these animals had an owner by subtracting **STRAY**,**WILDLIFE** and **EUTH OLD** reasons."
   ]
  },
  {
   "cell_type": "code",
   "execution_count": 22,
   "metadata": {},
   "outputs": [
    {
     "name": "stdout",
     "output_type": "stream",
     "text": [
      "The percentage of former domestic but abandoned animals is: 65.0%\n"
     ]
    }
   ],
   "source": [
    "former_domestic_persantage = round(animals_data[(animals_data.intake_reason != 'STRAY') & (animals_data.intake_reason != 'WILDLIFE') & (animals_data.intake_reason != 'EUTH OLD')].intake_reason.count()/animals_data.intake_reason.count()*100, 1)\n",
    "print(\"The percentage of former domestic but abandoned animals is: {}%\".format(former_domestic_persantage))"
   ]
  },
  {
   "cell_type": "markdown",
   "metadata": {},
   "source": [
    "**AGG PEOPLE** category attracts my interest as I'm not sure what is included here (maybe aggressive to people?). But we can make a conclusion that there was a little bit fewer animal aggression to animals than to people."
   ]
  },
  {
   "cell_type": "markdown",
   "metadata": {},
   "source": [
    "### Which species were registered in Animal Services most of all?"
   ]
  },
  {
   "cell_type": "markdown",
   "metadata": {},
   "source": [
    "The column `animal_type` holds this information. We will present it as a pie-chart."
   ]
  },
  {
   "cell_type": "code",
   "execution_count": 23,
   "metadata": {},
   "outputs": [],
   "source": [
    "def my_autopct(pct):\n",
    "    '''\n",
    "    Condition removal labels.\n",
    "        \n",
    "    Returns:\n",
    "    - Floating-point number - labels the wedges with their numeric value\n",
    "    '''\n",
    "    return ('%1.1f%%' % pct) if pct > 1 else ''"
   ]
  },
  {
   "cell_type": "code",
   "execution_count": 24,
   "metadata": {},
   "outputs": [],
   "source": [
    "def pie(dataset, group_column, chart_title):\n",
    "    '''\n",
    "    Plot a pie chart of array x.\n",
    "    \n",
    "    Parameters:\n",
    "    - dataset (DataFrame)\n",
    "    - group_column (str)\n",
    "    - chart_title (str)\n",
    "    \n",
    "    Returns:\n",
    "    A pie chart\n",
    "    '''\n",
    "    categories = None\n",
    "    categories = dataset.groupby(group_column).size()\n",
    "    categories = categories.sort_values(ascending = False)\n",
    "    \n",
    "    # use colour map do avoid repeating colours\n",
    "    cs=cm.Set1(np.arange(9)/9.)\n",
    "    plt.pie(categories, autopct=my_autopct, radius=1.00, pctdistance=0.50, textprops={'fontsize': 15}, \n",
    "        explode = (0.07, 0.07, 0.07, 0.07, 0.07, 0.07, 0.07, 0.07, 0.07), colors=cs) \n",
    "    # Makes the plot look circular\n",
    "    plt.gca().set_aspect(\"equal\")\n",
    "    plt.title(chart_title, fontsize=20, loc=\"center\")\n",
    "    plt.legend(labels=categories.index, loc=\"center\", bbox_to_anchor=(1.8, 0.5), prop={'size': 14})\n",
    "    #plt.ticks().set_aspect(\"equal\")\n",
    "        \n",
    "    plt.show()"
   ]
  },
  {
   "cell_type": "code",
   "execution_count": 25,
   "metadata": {},
   "outputs": [
    {
     "data": {
      "image/png": "[encoded data removed]",
      "text/plain": [
       "<Figure size 720x288 with 1 Axes>"
      ]
     },
     "metadata": {},
     "output_type": "display_data"
    }
   ],
   "source": [
    "pie(animals_data, \"animal_type\", \"Intake spieces types\")"
   ]
  },
  {
   "cell_type": "markdown",
   "metadata": {},
   "source": [
    "As expected most popular animals accommodating the Animal Services were cats and dogs.\n",
    "### The evaluation of species number intake in time.\n",
    "For this analysis, I will take only two columns  and represent them as a box chart with whiskers. This plot draws a box around the 25th and 75th percentiles of the data that captures the middle 50% of observations. A line is drawn at the 50th percentile (the median) and whiskers are drawn above and below the box to summarize the general extents of the observations. Dots are drawn for outliers outside the whiskers or extents of the data."
   ]
  },
  {
   "cell_type": "code",
   "execution_count": 26,
   "metadata": {},
   "outputs": [],
   "source": [
    "# create new dataset with 2 columns\n",
    "\n",
    "intake_number_by_date = animals_data[['animal_type', 'intake_date']]"
   ]
  },
  {
   "cell_type": "code",
   "execution_count": 27,
   "metadata": {},
   "outputs": [],
   "source": [
    "# group number of intakes by date\n",
    "\n",
    "intake_number_by_date = intake_number_by_date.groupby(['intake_date']).size().reset_index()"
   ]
  },
  {
   "cell_type": "code",
   "execution_count": 28,
   "metadata": {},
   "outputs": [],
   "source": [
    "# add new column for chart labels\n",
    "\n",
    "intake_number_by_date['year'] = intake_number_by_date.intake_date.dt.year"
   ]
  },
  {
   "cell_type": "code",
   "execution_count": 29,
   "metadata": {},
   "outputs": [
    {
     "data": {
      "text/plain": [
       "Text(0.5, 0, 'Years')"
      ]
     },
     "execution_count": 29,
     "metadata": {},
     "output_type": "execute_result"
    },
    {
     "data": {
      "image/png": "[encoded data removed]",
      "text/plain": [
       "<Figure size 720x288 with 1 Axes>"
      ]
     },
     "metadata": {},
     "output_type": "display_data"
    }
   ],
   "source": [
    "ax = sns.boxplot(data = intake_number_by_date, x='year',y=0)\n",
    "ax.set_title(\"Distribution of intakes\", fontsize=25)\n",
    "ax.set_ylabel(\"Number\", fontsize=15)\n",
    "ax.set_xlabel(\"Years\", fontsize=15)"
   ]
  },
  {
   "cell_type": "markdown",
   "metadata": {},
   "source": [
    "This chart describes intake distribution through the years. We see the highest values of animal intakes in 2008 and 2009 where sometimes the numbers were really high, e.g. 160 species during one day in 2010. However, in most cases there were about 30 new animals registered per day. The good thing is that the tendency goes down through the years and after 2014 there were about 20 species registered per day.\n",
    "\n",
    "### Animals outcome types\n",
    "\n",
    "Now let's explore what we have as outcome."
   ]
  },
  {
   "cell_type": "code",
   "execution_count": 30,
   "metadata": {},
   "outputs": [
    {
     "data": {
      "image/png": "[encoded data removed]",
      "text/plain": [
       "<Figure size 720x288 with 1 Axes>"
      ]
     },
     "metadata": {},
     "output_type": "display_data"
    }
   ],
   "source": [
    "barh(animals_data, 'outcome_type', 'Outcome types', 'Number')"
   ]
  },
  {
   "cell_type": "markdown",
   "metadata": {},
   "source": [
    "Unfortunately, as we can see, the most common way of leaving the Animal Services is **EUTH**anisation. Probably the euthanization number is correlated to the accommodation time because, from what I know from Animal Rescue channel programs, there is a time limit of 2 weeks for an animal to be adopted, otherwise it is euthanizated. \n",
    "\n",
    "**How long do animals stay in Animal Services?**"
   ]
  },
  {
   "cell_type": "code",
   "execution_count": 31,
   "metadata": {},
   "outputs": [
    {
     "name": "stdout",
     "output_type": "stream",
     "text": [
      "Median is 6 days and the mean is 13 days\n"
     ]
    }
   ],
   "source": [
    "days_median = int((animals_data.outcome_date - animals_data.intake_date).dt.days.median())\n",
    "days_mean = int((animals_data.outcome_date - animals_data.intake_date).dt.days.mean())\n",
    "print(\"Median is {} days\".format(days_median), \"and the mean is {} days\".format(days_mean))"
   ]
  },
  {
   "cell_type": "markdown",
   "metadata": {},
   "source": [
    "That means that 50% of animals stay in Animal Services less than 6 days and we can make a conclusion that the facility is looking not to keep animals for a long period of time.\n",
    "\n",
    "Let's convert the column  `outcome_type` to boolean, where 1 will mean that animal was adopted and 0 - it left the Services in any other way. We will use these values later to explore the correlation with dog intelligence and breed popularity."
   ]
  },
  {
   "cell_type": "code",
   "execution_count": 32,
   "metadata": {},
   "outputs": [
    {
     "data": {
      "text/plain": [
       "outcome_type\n",
       "1     25667\n",
       "0    124866\n",
       "dtype: int64"
      ]
     },
     "execution_count": 32,
     "metadata": {},
     "output_type": "execute_result"
    }
   ],
   "source": [
    "animals_data.outcome_type = animals_data.outcome_type.replace(\"ADOPTION\", 1)\n",
    "animals_data.outcome_type = pd.to_numeric(animals_data.outcome_type, errors='coerce').fillna(0).astype(int)\n",
    "animals_data.groupby('outcome_type').size().sort_values()"
   ]
  },
  {
   "cell_type": "markdown",
   "metadata": {},
   "source": [
    "In the framework of this project we are going to compare the correlation between dog adoption, breed intelligence and popularity. We will create a new dataset containing only observations about dogs and will remove all columns which we are not going to use for the analysis (e.g. we do not need `animal_type` column as we look only into dogs data)."
   ]
  },
  {
   "cell_type": "code",
   "execution_count": 33,
   "metadata": {},
   "outputs": [],
   "source": [
    "# take only dogs and delete unnecessary columns\n",
    "\n",
    "dogs_dataset = animals_data[(animals_data.animal_type == \"DOG\")]\n",
    "dogs_dataset = dogs_dataset[['breed', 'outcome_type', 'outcome_date', 'color', 'outcome_health_status']]"
   ]
  },
  {
   "cell_type": "code",
   "execution_count": 34,
   "metadata": {},
   "outputs": [
    {
     "data": {
      "text/html": [
       "<div>\n",
       "<style scoped>\n",
       "    .dataframe tbody tr th:only-of-type {\n",
       "        vertical-align: middle;\n",
       "    }\n",
       "\n",
       "    .dataframe tbody tr th {\n",
       "        vertical-align: top;\n",
       "    }\n",
       "\n",
       "    .dataframe thead th {\n",
       "        text-align: right;\n",
       "    }\n",
       "</style>\n",
       "<table border=\"1\" class=\"dataframe\">\n",
       "  <thead>\n",
       "    <tr style=\"text-align: right;\">\n",
       "      <th></th>\n",
       "      <th>breed</th>\n",
       "      <th>outcome_type</th>\n",
       "      <th>outcome_date</th>\n",
       "      <th>color</th>\n",
       "      <th>outcome_health_status</th>\n",
       "    </tr>\n",
       "  </thead>\n",
       "  <tbody>\n",
       "    <tr>\n",
       "      <th>4</th>\n",
       "      <td>PIT BULL TERRIER</td>\n",
       "      <td>0</td>\n",
       "      <td>2006-09-12</td>\n",
       "      <td>WHITE</td>\n",
       "      <td>HEALTHY</td>\n",
       "    </tr>\n",
       "    <tr>\n",
       "      <th>6</th>\n",
       "      <td>AMERICAN PIT BULL TERRIER</td>\n",
       "      <td>0</td>\n",
       "      <td>2005-12-08</td>\n",
       "      <td>BROWN</td>\n",
       "      <td>HEALTHY</td>\n",
       "    </tr>\n",
       "    <tr>\n",
       "      <th>8</th>\n",
       "      <td>LABRADOR RETRIEVER</td>\n",
       "      <td>0</td>\n",
       "      <td>2007-07-04</td>\n",
       "      <td>WHITE</td>\n",
       "      <td>HEALTHY</td>\n",
       "    </tr>\n",
       "    <tr>\n",
       "      <th>15</th>\n",
       "      <td>BEAGLE</td>\n",
       "      <td>0</td>\n",
       "      <td>2007-08-07</td>\n",
       "      <td>TRICOLOR</td>\n",
       "      <td>HEALTHY</td>\n",
       "    </tr>\n",
       "    <tr>\n",
       "      <th>17</th>\n",
       "      <td>PIT BULL TERRIER</td>\n",
       "      <td>0</td>\n",
       "      <td>2005-12-29</td>\n",
       "      <td>WHITE</td>\n",
       "      <td>HEALTHY</td>\n",
       "    </tr>\n",
       "  </tbody>\n",
       "</table>\n",
       "</div>"
      ],
      "text/plain": [
       "                        breed  outcome_type outcome_date     color  \\\n",
       "4            PIT BULL TERRIER             0   2006-09-12     WHITE   \n",
       "6   AMERICAN PIT BULL TERRIER             0   2005-12-08     BROWN   \n",
       "8          LABRADOR RETRIEVER             0   2007-07-04     WHITE   \n",
       "15                     BEAGLE             0   2007-08-07  TRICOLOR   \n",
       "17           PIT BULL TERRIER             0   2005-12-29     WHITE   \n",
       "\n",
       "   outcome_health_status  \n",
       "4                HEALTHY  \n",
       "6                HEALTHY  \n",
       "8                HEALTHY  \n",
       "15               HEALTHY  \n",
       "17               HEALTHY  "
      ]
     },
     "execution_count": 34,
     "metadata": {},
     "output_type": "execute_result"
    }
   ],
   "source": [
    "dogs_dataset.head()"
   ]
  },
  {
   "cell_type": "markdown",
   "metadata": {},
   "source": [
    "Now we will take two more datasets containing the information about dog intelligence and popularity and will merge them with our `dogs_dataset`. In order to have less Nan values let's rename some of the breeds in `dogs_dataset` to more appropriate names of these breeds so they match what we have in `breads_intelligence` and `breed_popularity` datasets."
   ]
  },
  {
   "cell_type": "code",
   "execution_count": 35,
   "metadata": {},
   "outputs": [],
   "source": [
    "dogs_dataset.breed.replace({\n",
    "    'PIT BULL TERRIER': 'STAFFORDSHIRE BULL TERRIER', \n",
    "    'CHIHUAHUA - SMOOTH COATED': 'CHIHUAHUA',\n",
    "    'AMERICAN PIT BULL TERRIER': 'AMERICAN STAFFORDSHIRE TERRIER',\n",
    "    'JACK RUSS TER': 'JACK RUSSELL TERRIER',\n",
    "    'POODLE - MINIATURE':'POODLE',\n",
    "    'AMERICAN BULLDOG':'BULLDOG',\n",
    "    'SCHNAUZER - MINIATURE':'MINIATURE SCHNAUZER',\n",
    "    'PARSON (JACK) RUSSELL TERRIER':'JACK RUSSELL TERRIER',\n",
    "    'ST BERNARD - SMOOTH COATED':'SAINT BERNARD',\n",
    "    'ST BERNARD - ROUGH COATED':'SAINT BERNARD',\n",
    "    'ALASKAN HUSKY':'SIBERIAN HUSKY',\n",
    "    'POODLE - TOY':'POODLE',\n",
    "    'FOX TERRIER - WIREHAIRED':'FOX TERRIER',\n",
    "    'CHIHUAHUA - LONG HAIRED':'CHIHUAHUA',\n",
    "    'WELSH CORGI - PEMBROKE':'PEMBROKE WELSH CORGI',\n",
    "    'WELSH CORGI - CARDIGAN':'CARDIGAN WELSH CORGI',\n",
    "    'ENGLISH BULLDOG':'BULLDOG',\n",
    "    'COLLIE - ROUGH':'COLLIE',\n",
    "    'COLLIE - SMOOTH':'COLLIE',\n",
    "    'ALASKAN MALAMUTES':'SIBERIAN HUSKY',\n",
    "    'DACHSHUND - WIREHAIRED':'DACHSHUND',\n",
    "    'RAT TERRIER':'CESKY TERRIER',\n",
    "    'ENGLISH POINTER':'POINTER',\n",
    "    'BRUSSELS GRIFFON':'GRIFFON BRUXELLOIS',\n",
    "    'TREEING WALKER COONHOUND':'BLACK AND TAN COONHOUND',\n",
    "    'REDBONE COONHOUND':'BLACK AND TAN COONHOUND',\n",
    "    'BLUETICK COONHOUND':'BLACK AND TAN COONHOUND',\n",
    "    'SILKY TERRIER':'AUSTRALIAN SILKY TERRIER',\n",
    "    'TOY FOX TERRIER':'FOX TERRIER (SMOOTH)',\n",
    "    'FOX TERRIER':'FOX TERRIER (SMOOTH)',\n",
    "    'CESKY TERRIER':'SCOTTISH TERRIER'\n",
    "}, inplace = True)"
   ]
  },
  {
   "cell_type": "markdown",
   "metadata": {},
   "source": [
    "## Dog intelligence data"
   ]
  },
  {
   "cell_type": "markdown",
   "metadata": {},
   "source": [
    "We will take a [dataset of dog intelligence](https://data.world/len/intelligence-of-dogs). This dataset is based on research by Stanley Coren, a professor of canine psychology at the University of British Columbia. When Coren first published his book in 1994, there was a high degree of dispute of his analysis, though over time his work has been largely accepted. \n",
    "\n",
    "**Data Dictionary**\n",
    "\n",
    "* Breed - breed name\n",
    "* Classification - the main class of bread from \"Brightest Dogs\" down to \"Obedience Intelligence\"\n",
    "* obey - probability that the breed obeys the first command (figure is lower bound)\n",
    "* reps_lower - lower limit of repetitions to understand new commands\n",
    "* reps_upper - upper limit of repetitions to understand new commands"
   ]
  },
  {
   "cell_type": "code",
   "execution_count": 36,
   "metadata": {},
   "outputs": [],
   "source": [
    "breads_intelligence = pd.read_csv(\"dog_intelligence.csv\")"
   ]
  },
  {
   "cell_type": "code",
   "execution_count": 37,
   "metadata": {},
   "outputs": [
    {
     "data": {
      "text/html": [
       "<div>\n",
       "<style scoped>\n",
       "    .dataframe tbody tr th:only-of-type {\n",
       "        vertical-align: middle;\n",
       "    }\n",
       "\n",
       "    .dataframe tbody tr th {\n",
       "        vertical-align: top;\n",
       "    }\n",
       "\n",
       "    .dataframe thead th {\n",
       "        text-align: right;\n",
       "    }\n",
       "</style>\n",
       "<table border=\"1\" class=\"dataframe\">\n",
       "  <thead>\n",
       "    <tr style=\"text-align: right;\">\n",
       "      <th></th>\n",
       "      <th>Breed</th>\n",
       "      <th>Classification</th>\n",
       "      <th>obey</th>\n",
       "      <th>reps_lower</th>\n",
       "      <th>reps_upper</th>\n",
       "    </tr>\n",
       "  </thead>\n",
       "  <tbody>\n",
       "    <tr>\n",
       "      <th>0</th>\n",
       "      <td>Border Collie</td>\n",
       "      <td>Brightest Dogs</td>\n",
       "      <td>95%</td>\n",
       "      <td>1</td>\n",
       "      <td>4</td>\n",
       "    </tr>\n",
       "    <tr>\n",
       "      <th>1</th>\n",
       "      <td>Poodle</td>\n",
       "      <td>Brightest Dogs</td>\n",
       "      <td>95%</td>\n",
       "      <td>1</td>\n",
       "      <td>4</td>\n",
       "    </tr>\n",
       "    <tr>\n",
       "      <th>2</th>\n",
       "      <td>German Shepherd</td>\n",
       "      <td>Brightest Dogs</td>\n",
       "      <td>95%</td>\n",
       "      <td>1</td>\n",
       "      <td>4</td>\n",
       "    </tr>\n",
       "    <tr>\n",
       "      <th>3</th>\n",
       "      <td>Golden Retriever</td>\n",
       "      <td>Brightest Dogs</td>\n",
       "      <td>95%</td>\n",
       "      <td>1</td>\n",
       "      <td>4</td>\n",
       "    </tr>\n",
       "    <tr>\n",
       "      <th>4</th>\n",
       "      <td>Doberman Pinscher</td>\n",
       "      <td>Brightest Dogs</td>\n",
       "      <td>95%</td>\n",
       "      <td>1</td>\n",
       "      <td>4</td>\n",
       "    </tr>\n",
       "  </tbody>\n",
       "</table>\n",
       "</div>"
      ],
      "text/plain": [
       "               Breed  Classification obey  reps_lower  reps_upper\n",
       "0      Border Collie  Brightest Dogs  95%           1           4\n",
       "1             Poodle  Brightest Dogs  95%           1           4\n",
       "2    German Shepherd  Brightest Dogs  95%           1           4\n",
       "3   Golden Retriever  Brightest Dogs  95%           1           4\n",
       "4  Doberman Pinscher  Brightest Dogs  95%           1           4"
      ]
     },
     "execution_count": 37,
     "metadata": {},
     "output_type": "execute_result"
    }
   ],
   "source": [
    "breads_intelligence.head()"
   ]
  },
  {
   "cell_type": "code",
   "execution_count": 38,
   "metadata": {},
   "outputs": [
    {
     "name": "stdout",
     "output_type": "stream",
     "text": [
      "<class 'pandas.core.frame.DataFrame'>\n",
      "RangeIndex: 136 entries, 0 to 135\n",
      "Data columns (total 5 columns):\n",
      "Breed             136 non-null object\n",
      "Classification    136 non-null object\n",
      "obey              125 non-null object\n",
      "reps_lower        136 non-null int64\n",
      "reps_upper        136 non-null int64\n",
      "dtypes: int64(2), object(3)\n",
      "memory usage: 3.8+ KB\n"
     ]
    }
   ],
   "source": [
    "breads_intelligence.info()"
   ]
  },
  {
   "cell_type": "markdown",
   "metadata": {},
   "source": [
    "As we are only interested in Classification column, the rest will be dropped and Classification column will be converted to ranked categories from 0 to 5, where 0 - Brightest Dogs and 5 - Lowest Degree of Working/Obedience Intelligence."
   ]
  },
  {
   "cell_type": "code",
   "execution_count": 39,
   "metadata": {},
   "outputs": [],
   "source": [
    "# Rename columns\n",
    "\n",
    "breads_intelligence.rename(columns={'Breed':'breed', 'Classification':'intelligence_rank'}, inplace=True)"
   ]
  },
  {
   "cell_type": "code",
   "execution_count": 40,
   "metadata": {},
   "outputs": [
    {
     "name": "stderr",
     "output_type": "stream",
     "text": [
      "c:\\users\\anastasiy.slavova\\desktop\\python37\\lib\\site-packages\\IPython\\core\\interactiveshell.py:3296: FutureWarning: specifying 'categories' or 'ordered' in .astype() is deprecated; pass a CategoricalDtype instead\n",
      "  exec(code_obj, self.user_global_ns, self.user_ns)\n"
     ]
    }
   ],
   "source": [
    "# Rank the intelligence classification\n",
    "\n",
    "breads_intelligence['breed'] = breads_intelligence['breed'].str.upper() \n",
    "breed_categories = breads_intelligence.intelligence_rank.unique()\n",
    "breads_intelligence['intelligence_rank'] = breads_intelligence.intelligence_rank.astype(\"category\", categories = breed_categories).cat.codes"
   ]
  },
  {
   "cell_type": "code",
   "execution_count": 41,
   "metadata": {},
   "outputs": [
    {
     "data": {
      "text/html": [
       "<div>\n",
       "<style scoped>\n",
       "    .dataframe tbody tr th:only-of-type {\n",
       "        vertical-align: middle;\n",
       "    }\n",
       "\n",
       "    .dataframe tbody tr th {\n",
       "        vertical-align: top;\n",
       "    }\n",
       "\n",
       "    .dataframe thead th {\n",
       "        text-align: right;\n",
       "    }\n",
       "</style>\n",
       "<table border=\"1\" class=\"dataframe\">\n",
       "  <thead>\n",
       "    <tr style=\"text-align: right;\">\n",
       "      <th></th>\n",
       "      <th>breed</th>\n",
       "      <th>intelligence_rank</th>\n",
       "    </tr>\n",
       "  </thead>\n",
       "  <tbody>\n",
       "    <tr>\n",
       "      <th>0</th>\n",
       "      <td>BORDER COLLIE</td>\n",
       "      <td>0</td>\n",
       "    </tr>\n",
       "    <tr>\n",
       "      <th>1</th>\n",
       "      <td>POODLE</td>\n",
       "      <td>0</td>\n",
       "    </tr>\n",
       "    <tr>\n",
       "      <th>2</th>\n",
       "      <td>GERMAN SHEPHERD</td>\n",
       "      <td>0</td>\n",
       "    </tr>\n",
       "    <tr>\n",
       "      <th>3</th>\n",
       "      <td>GOLDEN RETRIEVER</td>\n",
       "      <td>0</td>\n",
       "    </tr>\n",
       "    <tr>\n",
       "      <th>4</th>\n",
       "      <td>DOBERMAN PINSCHER</td>\n",
       "      <td>0</td>\n",
       "    </tr>\n",
       "  </tbody>\n",
       "</table>\n",
       "</div>"
      ],
      "text/plain": [
       "               breed  intelligence_rank\n",
       "0      BORDER COLLIE                  0\n",
       "1             POODLE                  0\n",
       "2    GERMAN SHEPHERD                  0\n",
       "3   GOLDEN RETRIEVER                  0\n",
       "4  DOBERMAN PINSCHER                  0"
      ]
     },
     "execution_count": 41,
     "metadata": {},
     "output_type": "execute_result"
    }
   ],
   "source": [
    "# Remove unnecessary columns\n",
    "\n",
    "breads_intelligence.drop(['obey', 'reps_lower', 'reps_upper'], axis = 1, inplace = True)\n",
    "breads_intelligence.head()"
   ]
  },
  {
   "cell_type": "markdown",
   "metadata": {},
   "source": [
    "## Breed popularity data per year\n",
    "\n",
    "We will take the dog popularity dataset by [American Kennel Club](https://www.akc.org/most-popular-breeds/), which provides this information from 2013 onwards.\n",
    "\n",
    "**Data Dictionary**\n",
    "\n",
    "* Breed - breed name\n",
    "* 2016 Rank - rank of the breed in 2016\n",
    "* 2015 Rank - rank of the breed in 2015\n",
    "* 2014 Rank - rank of the breed in 2014\n",
    "* 2013 Rank - rank of the breed in 2013"
   ]
  },
  {
   "cell_type": "code",
   "execution_count": 42,
   "metadata": {},
   "outputs": [
    {
     "data": {
      "text/html": [
       "<div>\n",
       "<style scoped>\n",
       "    .dataframe tbody tr th:only-of-type {\n",
       "        vertical-align: middle;\n",
       "    }\n",
       "\n",
       "    .dataframe tbody tr th {\n",
       "        vertical-align: top;\n",
       "    }\n",
       "\n",
       "    .dataframe thead th {\n",
       "        text-align: right;\n",
       "    }\n",
       "</style>\n",
       "<table border=\"1\" class=\"dataframe\">\n",
       "  <thead>\n",
       "    <tr style=\"text-align: right;\">\n",
       "      <th></th>\n",
       "      <th>Breed</th>\n",
       "      <th>2016 Rank</th>\n",
       "      <th>2015 Rank</th>\n",
       "      <th>2014 Rank</th>\n",
       "      <th>2013 Rank</th>\n",
       "    </tr>\n",
       "  </thead>\n",
       "  <tbody>\n",
       "    <tr>\n",
       "      <th>0</th>\n",
       "      <td>Retrievers (Labrador)</td>\n",
       "      <td>1</td>\n",
       "      <td>1.0</td>\n",
       "      <td>1.0</td>\n",
       "      <td>1.0</td>\n",
       "    </tr>\n",
       "    <tr>\n",
       "      <th>1</th>\n",
       "      <td>German Shepherd Dogs</td>\n",
       "      <td>2</td>\n",
       "      <td>2.0</td>\n",
       "      <td>2.0</td>\n",
       "      <td>2.0</td>\n",
       "    </tr>\n",
       "    <tr>\n",
       "      <th>2</th>\n",
       "      <td>Retrievers (Golden)</td>\n",
       "      <td>3</td>\n",
       "      <td>3.0</td>\n",
       "      <td>3.0</td>\n",
       "      <td>3.0</td>\n",
       "    </tr>\n",
       "    <tr>\n",
       "      <th>3</th>\n",
       "      <td>Bulldogs</td>\n",
       "      <td>4</td>\n",
       "      <td>4.0</td>\n",
       "      <td>4.0</td>\n",
       "      <td>5.0</td>\n",
       "    </tr>\n",
       "    <tr>\n",
       "      <th>4</th>\n",
       "      <td>Beagles</td>\n",
       "      <td>5</td>\n",
       "      <td>5.0</td>\n",
       "      <td>5.0</td>\n",
       "      <td>4.0</td>\n",
       "    </tr>\n",
       "  </tbody>\n",
       "</table>\n",
       "</div>"
      ],
      "text/plain": [
       "                   Breed  2016 Rank  2015 Rank  2014 Rank  2013 Rank\n",
       "0  Retrievers (Labrador)          1        1.0        1.0        1.0\n",
       "1   German Shepherd Dogs          2        2.0        2.0        2.0\n",
       "2    Retrievers (Golden)          3        3.0        3.0        3.0\n",
       "3               Bulldogs          4        4.0        4.0        5.0\n",
       "4                Beagles          5        5.0        5.0        4.0"
      ]
     },
     "execution_count": 42,
     "metadata": {},
     "output_type": "execute_result"
    }
   ],
   "source": [
    "breeds_popularity_data = pd.read_csv('AKC_Popular_Breeds_2013-2016.csv')\n",
    "breeds_popularity_data.head()"
   ]
  },
  {
   "cell_type": "code",
   "execution_count": 43,
   "metadata": {},
   "outputs": [
    {
     "name": "stdout",
     "output_type": "stream",
     "text": [
      "<class 'pandas.core.frame.DataFrame'>\n",
      "RangeIndex: 189 entries, 0 to 188\n",
      "Data columns (total 5 columns):\n",
      "Breed        189 non-null object\n",
      "2016 Rank    189 non-null int64\n",
      "2015 Rank    184 non-null float64\n",
      "2014 Rank    184 non-null float64\n",
      "2013 Rank    177 non-null float64\n",
      "dtypes: float64(3), int64(1), object(1)\n",
      "memory usage: 6.7+ KB\n"
     ]
    }
   ],
   "source": [
    "breeds_popularity_data.info()"
   ]
  },
  {
   "cell_type": "code",
   "execution_count": 44,
   "metadata": {},
   "outputs": [
    {
     "name": "stdout",
     "output_type": "stream",
     "text": [
      "The average standard deviation for the breed ranks is 5.0.\n"
     ]
    }
   ],
   "source": [
    "print(\"The average standard deviation for the breed ranks is {}.\".format(round(breeds_popularity_data.std(axis = 1).mean()), 1))"
   ]
  },
  {
   "cell_type": "markdown",
   "metadata": {},
   "source": [
    "The mean deviation of breeds popularity is not very high, but in order to be more precise, we will only take popularity ranks for 2013 and will compare it with 2013 data of `dogs_dataset` because for this year we have the largest number of observations in the 2013-2016 year range.\n",
    "\n",
    "We have about 180 ranks of breeds. For future analysis, we will split the range of ranks by some number for each rank (there are some Nan values for each year, we will drop them). So for example the most popular breeds will be those which take the first 20-22 places in the original ranking table. As a result we will have 8-9 ranked breed groups, where 0 - the most popular, 1 - the least popular category.\n",
    "\n",
    "In addition, we will clean `popularity_dataset`: update column names, some breed names and select data by a chosen year. Furthermore, the breeds in `popularity_dataset` are written in plural form, so we will need to make them singular."
   ]
  },
  {
   "cell_type": "code",
   "execution_count": 45,
   "metadata": {},
   "outputs": [],
   "source": [
    "# Update and make breed names singular \n",
    "\n",
    "breeds_popularity_data.Breed = breeds_popularity_data.Breed.str.upper()\n",
    "breeds_popularity_data.Breed.replace({\n",
    "    'RETRIEVERS (LABRADOR)': 'LABRADOR RETRIEVER', \n",
    "    'RETRIEVERS (GOLDEN)': 'LABRADOR RETRIEVER',\n",
    "    'RUSSELL TERRIERS': 'JACK RUSSELL TERRIER',\n",
    "    'SIBERIAN HUSKIES': 'SIBERIAN HUSKY',\n",
    "    'SPANIELS (COCKER)':'COCKER SPANIEL',\n",
    "    'SPANIELS (ENGLISH SPRINGER)':'ENGLISH SPRINGER SPANIEL',\n",
    "    'SPANIELS (ENGLISH COCKER)':'ENGLISH COCKER SPANIEL',\n",
    "    'ST. BERNARDS':'SAINT BERNARDS',\n",
    "    'BICHONS FRISES':'BICHON FRISE',\n",
    "    'POINTERS (GERMAN SHORTHAIRED)':'GERMAN SHORTHAIRED POINTERS',\n",
    "    'SETTERS (IRISH)':'IRISH SETTER',\n",
    "    'SETTERS (ENGLISH)':'ENGLISH SETTER',\n",
    "    'RETRIVERS (FLAT-COATED)':'FLAT-COATED RETRIEVER',\n",
    "    'FOX TERRIERS (WIRE)':'FOX TERRIERS',\n",
    "    'PEMBROKE WELSH CORGIS':'WELSH CORGIS',\n",
    "    'DOGUES DE BORDEAUX':'DOGUE DE BORDEAUX',\n",
    "    'KEESHONDEN':'KEESHOND',\n",
    "    'CHINESE SHAR-PEI':'CHINESE SHARPEI'\n",
    "}, inplace = True)\n",
    "breeds_popularity_data.Breed = [x.rstrip('S') if x.endswith('S') else x for x in breeds_popularity_data.Breed]"
   ]
  },
  {
   "cell_type": "markdown",
   "metadata": {},
   "source": [
    "For easy selection of data by year, the operation will be placed into function."
   ]
  },
  {
   "cell_type": "code",
   "execution_count": 46,
   "metadata": {},
   "outputs": [],
   "source": [
    "# Select ranks year and drop unnecessary columns and Nan rank values. \n",
    "\n",
    "def popularity_rank(dataset, year, quantile):\n",
    "    '''\n",
    "    Build dataset for year and ranks range\n",
    "\n",
    "    Parameters:\n",
    "    - dataset (DataFrame)\n",
    "    - year (int)\n",
    "    - quantile (int)\n",
    "    \n",
    "    Returns:\n",
    "    Dataset with two columns: breed and year ranks.\n",
    "    '''\n",
    "    year_column = str(year) + \" Rank\"\n",
    "    breeds_popularity = dataset[['Breed', year_column]]\n",
    "    breeds_popularity = breeds_popularity.dropna(subset=[year_column])\n",
    "\n",
    "    breeds_popularity['popularity_rank'] = pd.qcut(breeds_popularity[year_column], quantile, labels=False)\n",
    "\n",
    "    breeds_popularity = breeds_popularity.rename(columns={'Breed':'breed'}) \n",
    "\n",
    "    breeds_popularity = breeds_popularity[['breed','popularity_rank']]\n",
    "    return breeds_popularity"
   ]
  },
  {
   "cell_type": "code",
   "execution_count": 47,
   "metadata": {},
   "outputs": [
    {
     "data": {
      "text/plain": [
       "popularity_rank\n",
       "0    30\n",
       "1    29\n",
       "2    30\n",
       "3    29\n",
       "4    29\n",
       "5    30\n",
       "dtype: int64"
      ]
     },
     "execution_count": 47,
     "metadata": {},
     "output_type": "execute_result"
    }
   ],
   "source": [
    "breeds_popularity = popularity_rank(breeds_popularity_data, 2013, 6)\n",
    "breeds_popularity.groupby('popularity_rank').size()"
   ]
  },
  {
   "cell_type": "markdown",
   "metadata": {},
   "source": [
    "Finally we get a dataset of breeds popularity grouped into 6 rank categories for 2013. \n",
    "\n",
    "A couple more steps will follow. As we said, we will take only the data for 2013 as the year with the most observations and will merge three datasets (`dogs_dataset`, `breeds_intelligence`, `breeds_popularity`) into one."
   ]
  },
  {
   "cell_type": "code",
   "execution_count": 48,
   "metadata": {},
   "outputs": [
    {
     "data": {
      "text/html": [
       "<div>\n",
       "<style scoped>\n",
       "    .dataframe tbody tr th:only-of-type {\n",
       "        vertical-align: middle;\n",
       "    }\n",
       "\n",
       "    .dataframe tbody tr th {\n",
       "        vertical-align: top;\n",
       "    }\n",
       "\n",
       "    .dataframe thead th {\n",
       "        text-align: right;\n",
       "    }\n",
       "</style>\n",
       "<table border=\"1\" class=\"dataframe\">\n",
       "  <thead>\n",
       "    <tr style=\"text-align: right;\">\n",
       "      <th></th>\n",
       "      <th>breed</th>\n",
       "      <th>outcome_type</th>\n",
       "      <th>outcome_date</th>\n",
       "      <th>color</th>\n",
       "      <th>outcome_health_status</th>\n",
       "      <th>popularity_rank</th>\n",
       "      <th>intelligence_rank</th>\n",
       "    </tr>\n",
       "  </thead>\n",
       "  <tbody>\n",
       "    <tr>\n",
       "      <th>0</th>\n",
       "      <td>SAINT BERNARD</td>\n",
       "      <td>0</td>\n",
       "      <td>2013-12-28</td>\n",
       "      <td>WHITE</td>\n",
       "      <td>HEALTHY</td>\n",
       "      <td>1.0</td>\n",
       "      <td>4.0</td>\n",
       "    </tr>\n",
       "    <tr>\n",
       "      <th>1</th>\n",
       "      <td>STAFFORDSHIRE BULL TERRIER</td>\n",
       "      <td>0</td>\n",
       "      <td>2013-09-25</td>\n",
       "      <td>BROWN</td>\n",
       "      <td>HEALTHY</td>\n",
       "      <td>2.0</td>\n",
       "      <td>3.0</td>\n",
       "    </tr>\n",
       "    <tr>\n",
       "      <th>2</th>\n",
       "      <td>JACK RUSSELL TERRIER</td>\n",
       "      <td>0</td>\n",
       "      <td>2013-09-16</td>\n",
       "      <td>WHITE</td>\n",
       "      <td>HEALTHY</td>\n",
       "      <td>3.0</td>\n",
       "      <td>3.0</td>\n",
       "    </tr>\n",
       "    <tr>\n",
       "      <th>3</th>\n",
       "      <td>STAFFORDSHIRE BULL TERRIER</td>\n",
       "      <td>0</td>\n",
       "      <td>2013-11-26</td>\n",
       "      <td>BROWN</td>\n",
       "      <td>HEALTHY</td>\n",
       "      <td>2.0</td>\n",
       "      <td>3.0</td>\n",
       "    </tr>\n",
       "    <tr>\n",
       "      <th>4</th>\n",
       "      <td>STAFFORDSHIRE BULL TERRIER</td>\n",
       "      <td>0</td>\n",
       "      <td>2013-10-16</td>\n",
       "      <td>WHITE</td>\n",
       "      <td>HEALTHY</td>\n",
       "      <td>2.0</td>\n",
       "      <td>3.0</td>\n",
       "    </tr>\n",
       "  </tbody>\n",
       "</table>\n",
       "</div>"
      ],
      "text/plain": [
       "                        breed  outcome_type outcome_date  color  \\\n",
       "0               SAINT BERNARD             0   2013-12-28  WHITE   \n",
       "1  STAFFORDSHIRE BULL TERRIER             0   2013-09-25  BROWN   \n",
       "2        JACK RUSSELL TERRIER             0   2013-09-16  WHITE   \n",
       "3  STAFFORDSHIRE BULL TERRIER             0   2013-11-26  BROWN   \n",
       "4  STAFFORDSHIRE BULL TERRIER             0   2013-10-16  WHITE   \n",
       "\n",
       "  outcome_health_status  popularity_rank  intelligence_rank  \n",
       "0               HEALTHY              1.0                4.0  \n",
       "1               HEALTHY              2.0                3.0  \n",
       "2               HEALTHY              3.0                3.0  \n",
       "3               HEALTHY              2.0                3.0  \n",
       "4               HEALTHY              2.0                3.0  "
      ]
     },
     "execution_count": 48,
     "metadata": {},
     "output_type": "execute_result"
    }
   ],
   "source": [
    "dogs_dataset = dogs_dataset[dogs_dataset.outcome_date.dt.year == 2013]\n",
    "dogs_dataset = dogs_dataset.merge(breeds_popularity, on=\"breed\", how='left')\n",
    "dogs_dataset = dogs_dataset.merge(breads_intelligence, on=\"breed\", how='left')\n",
    "dogs_dataset.head()"
   ]
  },
  {
   "cell_type": "code",
   "execution_count": 49,
   "metadata": {},
   "outputs": [
    {
     "name": "stdout",
     "output_type": "stream",
     "text": [
      "<class 'pandas.core.frame.DataFrame'>\n",
      "Int64Index: 5804 entries, 0 to 5803\n",
      "Data columns (total 7 columns):\n",
      "breed                    5804 non-null object\n",
      "outcome_type             5804 non-null int32\n",
      "outcome_date             5804 non-null datetime64[ns]\n",
      "color                    5801 non-null object\n",
      "outcome_health_status    5804 non-null object\n",
      "popularity_rank          5599 non-null float64\n",
      "intelligence_rank        5239 non-null float64\n",
      "dtypes: datetime64[ns](1), float64(2), int32(1), object(3)\n",
      "memory usage: 272.1+ KB\n"
     ]
    }
   ],
   "source": [
    "dogs_dataset.info()"
   ]
  },
  {
   "cell_type": "markdown",
   "metadata": {},
   "source": [
    "There are some NaN data for `intelligence_rank`, `popularity_rank`. These values will be removed in order to make the data as clean as possible and the rest will be presented as integers."
   ]
  },
  {
   "cell_type": "code",
   "execution_count": 50,
   "metadata": {},
   "outputs": [],
   "source": [
    "dogs_dataset = dogs_dataset.dropna(subset=['intelligence_rank', 'popularity_rank'])\n",
    "dogs_dataset.popularity_rank = dogs_dataset.popularity_rank.astype(int)\n",
    "dogs_dataset.intelligence_rank = dogs_dataset.intelligence_rank.astype(int)"
   ]
  },
  {
   "cell_type": "markdown",
   "metadata": {},
   "source": [
    "What are the most popular breeds registered Animal Services?"
   ]
  },
  {
   "cell_type": "code",
   "execution_count": 51,
   "metadata": {},
   "outputs": [
    {
     "data": {
      "image/png": "[encoded data removed]",
      "text/plain": [
       "<Figure size 720x288 with 1 Axes>"
      ]
     },
     "metadata": {},
     "output_type": "display_data"
    }
   ],
   "source": [
    "barh(dogs_dataset, 'breed', 'Breed popularity at Animal Services', 'xxx')"
   ]
  },
  {
   "cell_type": "markdown",
   "metadata": {},
   "source": [
    "We see big size pets on first places in this chart (**STAFFORDSHIRE BULL TARRIER**, **LABRADOR RETRIEVER**), some medium sized (**BEAGLE**, **JACK RUSSEL**) and small ones (**CHIHUAHUA**, **SHIH TZU**). We can't say what the  most common dog size in the shelter. \n",
    "\n",
    "\n",
    "## Dog adoptions vs. breed intelligence\n",
    "\n",
    "Is there any dependence between adoption and dog adoption and intelligence? We will perform Chi-squared Test using Python's Scipy library. The first step is to construct contingency table, its columns will be a boolean category if animal was adopted (0 - not adopted, 1 - adopted) and the rows - intelligence ranks (0 - brilliant dogs, 5 - dogs with lowest level of intelligence). Then we will visualize the result and will perform the Chi-squared test."
   ]
  },
  {
   "cell_type": "code",
   "execution_count": 52,
   "metadata": {},
   "outputs": [
    {
     "data": {
      "text/html": [
       "<div>\n",
       "<style scoped>\n",
       "    .dataframe tbody tr th:only-of-type {\n",
       "        vertical-align: middle;\n",
       "    }\n",
       "\n",
       "    .dataframe tbody tr th {\n",
       "        vertical-align: top;\n",
       "    }\n",
       "\n",
       "    .dataframe thead th {\n",
       "        text-align: right;\n",
       "    }\n",
       "</style>\n",
       "<table border=\"1\" class=\"dataframe\">\n",
       "  <thead>\n",
       "    <tr style=\"text-align: right;\">\n",
       "      <th>intelligence_rank</th>\n",
       "      <th>0</th>\n",
       "      <th>1</th>\n",
       "      <th>2</th>\n",
       "      <th>3</th>\n",
       "      <th>4</th>\n",
       "      <th>5</th>\n",
       "      <th>All</th>\n",
       "    </tr>\n",
       "    <tr>\n",
       "      <th>outcome_type</th>\n",
       "      <th></th>\n",
       "      <th></th>\n",
       "      <th></th>\n",
       "      <th></th>\n",
       "      <th></th>\n",
       "      <th></th>\n",
       "      <th></th>\n",
       "    </tr>\n",
       "  </thead>\n",
       "  <tbody>\n",
       "    <tr>\n",
       "      <th>0</th>\n",
       "      <td>1168</td>\n",
       "      <td>172</td>\n",
       "      <td>223</td>\n",
       "      <td>1657</td>\n",
       "      <td>299</td>\n",
       "      <td>626</td>\n",
       "      <td>4145</td>\n",
       "    </tr>\n",
       "    <tr>\n",
       "      <th>1</th>\n",
       "      <td>306</td>\n",
       "      <td>42</td>\n",
       "      <td>78</td>\n",
       "      <td>251</td>\n",
       "      <td>136</td>\n",
       "      <td>192</td>\n",
       "      <td>1005</td>\n",
       "    </tr>\n",
       "    <tr>\n",
       "      <th>All</th>\n",
       "      <td>1474</td>\n",
       "      <td>214</td>\n",
       "      <td>301</td>\n",
       "      <td>1908</td>\n",
       "      <td>435</td>\n",
       "      <td>818</td>\n",
       "      <td>5150</td>\n",
       "    </tr>\n",
       "  </tbody>\n",
       "</table>\n",
       "</div>"
      ],
      "text/plain": [
       "intelligence_rank     0    1    2     3    4    5   All\n",
       "outcome_type                                           \n",
       "0                  1168  172  223  1657  299  626  4145\n",
       "1                   306   42   78   251  136  192  1005\n",
       "All                1474  214  301  1908  435  818  5150"
      ]
     },
     "execution_count": 52,
     "metadata": {},
     "output_type": "execute_result"
    }
   ],
   "source": [
    "# construct a contingency table\n",
    "\n",
    "adoption_vs_intelligence = pd.crosstab(dogs_dataset.outcome_type, dogs_dataset.intelligence_rank, margins = True)\n",
    "adoption_vs_intelligence"
   ]
  },
  {
   "cell_type": "code",
   "execution_count": 53,
   "metadata": {},
   "outputs": [
    {
     "data": {
      "image/png": "[encoded data removed]",
      "text/plain": [
       "<Figure size 720x288 with 1 Axes>"
      ]
     },
     "metadata": {},
     "output_type": "display_data"
    }
   ],
   "source": [
    "# plot bar chart\n",
    "\n",
    "adopted_dogs = adoption_vs_intelligence.iloc[0][0:6].values\n",
    "not_adopted_dogs = adoption_vs_intelligence.iloc[1][0:6].values\n",
    "\n",
    "categories = ['Brightest', 'Excellent', 'Above Average', 'Average', 'Fair', 'Lowest']\n",
    "adopted_chart = plt.bar(categories, adopted_dogs, 0.5)\n",
    "not_adopted_chart = plt.bar(categories, not_adopted_dogs, 0.5)\n",
    "plt.legend((not_adopted_chart[0], adopted_chart[0]), ('Adopted', 'Not adopted'))\n",
    "\n",
    "plt.title('Intelligence rank vs adoption', fontsize = 18)\n",
    "plt.xlabel('Intelligence rank', fontsize = 13)\n",
    "plt.ylabel('Number', fontsize = 13)\n",
    "plt.show()"
   ]
  },
  {
   "cell_type": "markdown",
   "metadata": {},
   "source": [
    "The chart above visualizes `adoption_vs_intelligence` contingency table. It doesn't give us the answer whether there is any dependence between the two categories. Then we will perform the **Chi-square test**.\n",
    "\n",
    "Our null hypothesis and the alternative hypothesis will be:\n",
    "\n",
    "$H_0$ says there is no statistically significant relationship between dog adoption and the intelligence rank.\n",
    "\n",
    "$H_1$ says opposite - there is a statistically significant relationship between dog adoption and the intelligence rank.\n",
    "\n",
    "We assume that $H_0$ is true, therefore the differences between the two bar charts occur simply by chance. \n",
    "$p$ will be set to 1% (0.01). If we reject $H_0$, there will still be 1% chance that we rejected it wrongly."
   ]
  },
  {
   "cell_type": "code",
   "execution_count": 54,
   "metadata": {},
   "outputs": [
    {
     "data": {
      "text/plain": [
       "(104.82557579952672,\n",
       " 6.281151536799931e-17,\n",
       " 12,\n",
       " array([[1186.35533981,  172.23883495,  242.26116505, 1535.66213592,\n",
       "          350.11165049,  658.37087379, 4145.        ],\n",
       "        [ 287.64466019,   41.76116505,   58.73883495,  372.33786408,\n",
       "           84.88834951,  159.62912621, 1005.        ],\n",
       "        [1474.        ,  214.        ,  301.        , 1908.        ,\n",
       "          435.        ,  818.        , 5150.        ]]))"
      ]
     },
     "execution_count": 54,
     "metadata": {},
     "output_type": "execute_result"
    }
   ],
   "source": [
    "stats.chi2_contingency(adoption_vs_intelligence)"
   ]
  },
  {
   "cell_type": "markdown",
   "metadata": {},
   "source": [
    "The $X2$ = 104,8, $p-value$ = ~0 and $DOF$ = 12. That means that there's a dependence between intelligence rank and adoption. Does it mean that people prefer to adopt smarter dogs? Definitely yes!\n",
    "\n",
    "\n",
    "In our dataset we have much less adopted dogs from the total number of registered dogs in Animal Services. Most people adopted animals with rank 0 ('Brilliant dogs') and on the second place are breeds with 'Average' intelligence (rank 3).\n",
    "\n",
    "What is the most common intelligent rank of the most adopted breed?"
   ]
  },
  {
   "cell_type": "code",
   "execution_count": 55,
   "metadata": {},
   "outputs": [
    {
     "data": {
      "text/plain": [
       "outcome_type  breed                           intelligence_rank\n",
       "0             STAFFORDSHIRE BULL TERRIER      3                    1061\n",
       "              LABRADOR RETRIEVER              0                     886\n",
       "              BEAGLE                          5                     315\n",
       "1             LABRADOR RETRIEVER              0                     212\n",
       "0             BOXER                           3                     193\n",
       "              CHIHUAHUA                       4                     190\n",
       "              JACK RUSSELL TERRIER            3                     108\n",
       "1             BEAGLE                          5                     100\n",
       "0             SIBERIAN HUSKY                  3                      94\n",
       "              CHOW CHOW                       5                      92\n",
       "              BORDER COLLIE                   0                      91\n",
       "              YORKSHIRE TERRIER               2                      85\n",
       "              ROTTWEILER                      0                      80\n",
       "1             CHIHUAHUA                       4                      80\n",
       "0             SHIH TZU                        5                      80\n",
       "1             STAFFORDSHIRE BULL TERRIER      3                      73\n",
       "0             POODLE                          0                      60\n",
       "              AMERICAN STAFFORDSHIRE TERRIER  2                      59\n",
       "              BULLDOG                         5                      55\n",
       "1             SHIH TZU                        5                      53\n",
       "Name: outcome_type, dtype: int64"
      ]
     },
     "execution_count": 55,
     "metadata": {},
     "output_type": "execute_result"
    }
   ],
   "source": [
    "dogs_dataset.groupby(['outcome_type', 'breed', 'intelligence_rank']).outcome_type.count().sort_values(ascending = False).head(20)"
   ]
  },
  {
   "cell_type": "markdown",
   "metadata": {},
   "source": [
    "We got interesting result, it seems that **STAFFORDSHIRE BULL TERRIER** is the most commonly adopted breed in our dataset and its intelligence rank is \"Average\" (rank 3), the second place is for **LABRADOR RETRIEVER** and it is defined as one of the most intelligent breads (rank 0). Then maybe people liked these breed because Pit bulls were popular in 2013? \n",
    "\n",
    "## Dog adoption vs breed popularity\n",
    "\n",
    "Now we will check if the adoption is linked to breed popularity, but this time we will build a chart containing only the Adopted category."
   ]
  },
  {
   "cell_type": "code",
   "execution_count": 56,
   "metadata": {},
   "outputs": [
    {
     "data": {
      "text/html": [
       "<div>\n",
       "<style scoped>\n",
       "    .dataframe tbody tr th:only-of-type {\n",
       "        vertical-align: middle;\n",
       "    }\n",
       "\n",
       "    .dataframe tbody tr th {\n",
       "        vertical-align: top;\n",
       "    }\n",
       "\n",
       "    .dataframe thead th {\n",
       "        text-align: right;\n",
       "    }\n",
       "</style>\n",
       "<table border=\"1\" class=\"dataframe\">\n",
       "  <thead>\n",
       "    <tr style=\"text-align: right;\">\n",
       "      <th>popularity_rank</th>\n",
       "      <th>0</th>\n",
       "      <th>1</th>\n",
       "      <th>2</th>\n",
       "      <th>3</th>\n",
       "      <th>4</th>\n",
       "      <th>5</th>\n",
       "    </tr>\n",
       "    <tr>\n",
       "      <th>outcome_type</th>\n",
       "      <th></th>\n",
       "      <th></th>\n",
       "      <th></th>\n",
       "      <th></th>\n",
       "      <th></th>\n",
       "      <th></th>\n",
       "    </tr>\n",
       "  </thead>\n",
       "  <tbody>\n",
       "    <tr>\n",
       "      <th>0</th>\n",
       "      <td>2349</td>\n",
       "      <td>343</td>\n",
       "      <td>1291</td>\n",
       "      <td>148</td>\n",
       "      <td>5</td>\n",
       "      <td>9</td>\n",
       "    </tr>\n",
       "    <tr>\n",
       "      <th>1</th>\n",
       "      <td>702</td>\n",
       "      <td>117</td>\n",
       "      <td>132</td>\n",
       "      <td>38</td>\n",
       "      <td>4</td>\n",
       "      <td>12</td>\n",
       "    </tr>\n",
       "  </tbody>\n",
       "</table>\n",
       "</div>"
      ],
      "text/plain": [
       "popularity_rank     0    1     2    3  4   5\n",
       "outcome_type                                \n",
       "0                2349  343  1291  148  5   9\n",
       "1                 702  117   132   38  4  12"
      ]
     },
     "execution_count": 56,
     "metadata": {},
     "output_type": "execute_result"
    }
   ],
   "source": [
    "adoption_vs_popularity = pd.crosstab(dogs_dataset.outcome_type, dogs_dataset.popularity_rank)\n",
    "adoption_vs_popularity"
   ]
  },
  {
   "cell_type": "code",
   "execution_count": 57,
   "metadata": {},
   "outputs": [
    {
     "data": {
      "image/png": "[encoded data removed]",
      "text/plain": [
       "<Figure size 720x288 with 1 Axes>"
      ]
     },
     "metadata": {},
     "output_type": "display_data"
    }
   ],
   "source": [
    "adopted_dogs = adoption_vs_popularity.iloc[0][0:6].values\n",
    "not_adopted_dogs = adoption_vs_popularity.iloc[1][0:6].values\n",
    "\n",
    "categories = ['Most popular', 'Less popular', 'Above Average', 'Average', 'Fair', 'Lowest']\n",
    "adopted_chart = plt.bar(categories, adopted_dogs, 0.5)\n",
    "not_adopted_chart = plt.bar(categories, not_adopted_dogs, 0.5)\n",
    "plt.legend((not_adopted_chart[0], adopted_chart[0]), ('Adopted', 'Not adopted'))\n",
    "\n",
    "plt.title('Breed popularity rank vs adoption', fontsize = 18)\n",
    "plt.xlabel('Popularity rank', fontsize = 13)\n",
    "plt.ylabel('Number', fontsize = 13)\n",
    "plt.show()"
   ]
  },
  {
   "cell_type": "markdown",
   "metadata": {},
   "source": [
    "So we have the most common adopted dogs of most popular breads in 2013. The chart clearly shows that the more popular the breed is, the bigger the chance for a dog of this breed to be adopted. We will take a look into this on a breed level."
   ]
  },
  {
   "cell_type": "code",
   "execution_count": 58,
   "metadata": {},
   "outputs": [
    {
     "data": {
      "text/plain": [
       "outcome_type  breed                           intelligence_rank  popularity_rank\n",
       "0             STAFFORDSHIRE BULL TERRIER      3                  2                  1061\n",
       "              LABRADOR RETRIEVER              0                  0                   886\n",
       "              BEAGLE                          5                  0                   315\n",
       "1             LABRADOR RETRIEVER              0                  0                   212\n",
       "0             BOXER                           3                  0                   193\n",
       "              CHIHUAHUA                       4                  0                   190\n",
       "              JACK RUSSELL TERRIER            3                  3                   108\n",
       "1             BEAGLE                          5                  0                   100\n",
       "0             SIBERIAN HUSKY                  3                  0                    94\n",
       "              CHOW CHOW                       5                  2                    92\n",
       "              BORDER COLLIE                   0                  1                    91\n",
       "              YORKSHIRE TERRIER               2                  0                    85\n",
       "              ROTTWEILER                      0                  0                    80\n",
       "1             CHIHUAHUA                       4                  0                    80\n",
       "0             SHIH TZU                        5                  0                    80\n",
       "1             STAFFORDSHIRE BULL TERRIER      3                  2                    73\n",
       "0             POODLE                          0                  0                    60\n",
       "              AMERICAN STAFFORDSHIRE TERRIER  2                  2                    59\n",
       "              BULLDOG                         5                  0                    55\n",
       "1             SHIH TZU                        5                  0                    53\n",
       "dtype: int64"
      ]
     },
     "execution_count": 58,
     "metadata": {},
     "output_type": "execute_result"
    }
   ],
   "source": [
    "dogs_dataset.groupby(['outcome_type', 'breed', 'intelligence_rank', 'popularity_rank']).size().sort_values(ascending = False).head(20)"
   ]
  },
  {
   "cell_type": "markdown",
   "metadata": {},
   "source": [
    "It turns out that the most commonly adopted dogs of popular breeds are **LABRADOR RETRIEVER**, **BEAGLE**, **CHIHUAHUA**, **STAFFORDSHIRE BULL TERRIER** and **SHIH TZU**. Almost all of them are included into most popular breeds list for 2013 (rank 0), the exception makes only **STAFFORDSHIRE BULL TERRIER** which has Average popularity (rank 2). Let's compare the breeds by the number of adopted to total number of registered dogs of every breed:"
   ]
  },
  {
   "cell_type": "code",
   "execution_count": 59,
   "metadata": {},
   "outputs": [],
   "source": [
    "def coef_adopted(breed, sentence):\n",
    "    '''\n",
    "    calculates the persantage of adopted dogs from total by breed\n",
    "    \n",
    "    Parameters:\n",
    "    breed (str)\n",
    "    sentence (bool)\n",
    "    \n",
    "    Returns:\n",
    "    number (float), persantage of adopted dogs\n",
    "    '''\n",
    "    coef_adopted = round(dogs_dataset[(dogs_dataset.breed == breed) & (dogs_dataset.outcome_type == 1)].breed.count()/dogs_dataset[(dogs_dataset.breed == breed)].breed.count()*100)       \n",
    "    if sentence:\n",
    "        return print(\"{}% of all registered species of the breed {} were adopted at 2013.\".format(coef_adopted, breed))\n",
    "    else:\n",
    "        return coef_adopted"
   ]
  },
  {
   "cell_type": "code",
   "execution_count": 60,
   "metadata": {},
   "outputs": [
    {
     "name": "stdout",
     "output_type": "stream",
     "text": [
      "19.0% of all registered species of the breed LABRADOR RETRIEVER were adopted at 2013.\n",
      "24.0% of all registered species of the breed BEAGLE were adopted at 2013.\n",
      "30.0% of all registered species of the breed CHIHUAHUA were adopted at 2013.\n",
      "17.0% of all registered species of the breed BOXER were adopted at 2013.\n",
      "6.0% of all registered species of the breed STAFFORDSHIRE BULL TERRIER were adopted at 2013.\n",
      "40.0% of all registered species of the breed SHIH TZU were adopted at 2013.\n"
     ]
    }
   ],
   "source": [
    "coef_adopted('LABRADOR RETRIEVER', 1)\n",
    "coef_adopted('BEAGLE', 1)\n",
    "coef_adopted('CHIHUAHUA', 1)\n",
    "coef_adopted('BOXER', 1)\n",
    "coef_adopted('STAFFORDSHIRE BULL TERRIER', 1)\n",
    "coef_adopted('SHIH TZU', 1)"
   ]
  },
  {
   "cell_type": "markdown",
   "metadata": {},
   "source": [
    "It seems that **LABRADOR RETRIEVER**, **BEAGLE**, **BOXER**, **SHIH TZU** have a bigger chance of adoption than **STAFFORDSHIRE BULL TERRIER**. As far as I know, **STAFFORDSHIRE BULL TERRIER** is a serious and difficult breed and is under special treatment in USA - the owner needs a special license to own this breed. It may be the main reason of the largest number of \"not adopted\" `outcome_type`. On the other hand, **LABRADOR RETRIEVER**, **BEAGLE**, **BOXER** are [the friendliest dogs](https://canna-pet.com/20-friendliest-dog-breeds/), especially **LABRADOR RETRIEVER**. The highest adoption rate has **SHIH TZU** - 40% of the total This breed is a cutie and maybe this is the main reason for the high adoption rate.\n",
    "\n",
    "In the first part of the research we have proved that people are looking for **smart**, **popular** and **cuttie** breeds. We will explore another dataset for the same purpose."
   ]
  },
  {
   "cell_type": "markdown",
   "metadata": {},
   "source": [
    "# NYC Dog Licensing Dataset\n",
    "\n",
    "Here is the dataset of [Dog Licensing in New York City, USA](https://data.cityofnewyork.us/Health/NYC-Dog-Licensing-Dataset/nu7n-tubp) for 2016, provided by Department of Health and Mental Hygiene (DOHMH), where owners can apply for and renew dog licenses. \n",
    "\n",
    "#### Data dictionary:\n",
    "\n",
    "* RowNumber - Row number\n",
    "* AnimalName - User-provided dog name (unless specified otherwise)\n",
    "* AnimalGender - M (Male) or F (Female) dog gender\n",
    "* AnimalBirthMonth - Month and year of dog's birth\n",
    "* BreedName - The breed of the animal or the breed the animal looks like the most\n",
    "* Borough, ZipCode, CommunityDistrict, CensusTract2010, NTA, CityCouncilDistrict, CongressionalDistrict, StateSenatorialDistrict - The detailed register address\n",
    "* LicenseIssuedDate, LicenseExpiredDate - License issued and expire dates"
   ]
  },
  {
   "cell_type": "code",
   "execution_count": 61,
   "metadata": {},
   "outputs": [],
   "source": [
    "nyc_dataset = pd.read_csv('nyc-dog-licensing-dataset.csv')"
   ]
  },
  {
   "cell_type": "code",
   "execution_count": 62,
   "metadata": {},
   "outputs": [
    {
     "data": {
      "text/html": [
       "<div>\n",
       "<style scoped>\n",
       "    .dataframe tbody tr th:only-of-type {\n",
       "        vertical-align: middle;\n",
       "    }\n",
       "\n",
       "    .dataframe tbody tr th {\n",
       "        vertical-align: top;\n",
       "    }\n",
       "\n",
       "    .dataframe thead th {\n",
       "        text-align: right;\n",
       "    }\n",
       "</style>\n",
       "<table border=\"1\" class=\"dataframe\">\n",
       "  <thead>\n",
       "    <tr style=\"text-align: right;\">\n",
       "      <th></th>\n",
       "      <th>RowNumber</th>\n",
       "      <th>AnimalName</th>\n",
       "      <th>AnimalGender</th>\n",
       "      <th>AnimalBirthMonth</th>\n",
       "      <th>BreedName</th>\n",
       "      <th>Borough</th>\n",
       "      <th>ZipCode</th>\n",
       "      <th>CommunityDistrict</th>\n",
       "      <th>CensusTract2010</th>\n",
       "      <th>NTA</th>\n",
       "      <th>CityCouncilDistrict</th>\n",
       "      <th>CongressionalDistrict</th>\n",
       "      <th>StateSenatorialDistrict</th>\n",
       "      <th>LicenseIssuedDate</th>\n",
       "      <th>LicenseExpiredDate</th>\n",
       "    </tr>\n",
       "  </thead>\n",
       "  <tbody>\n",
       "    <tr>\n",
       "      <th>0</th>\n",
       "      <td>1753</td>\n",
       "      <td>SHADOW</td>\n",
       "      <td>M</td>\n",
       "      <td>01/01/2000 12:00:00 AM</td>\n",
       "      <td>Beagle</td>\n",
       "      <td>Brooklyn</td>\n",
       "      <td>11236.0</td>\n",
       "      <td>318.0</td>\n",
       "      <td>1014.0</td>\n",
       "      <td>BK50</td>\n",
       "      <td>46.0</td>\n",
       "      <td>8.0</td>\n",
       "      <td>19.0</td>\n",
       "      <td>12/29/2014</td>\n",
       "      <td>01/30/2016</td>\n",
       "    </tr>\n",
       "    <tr>\n",
       "      <th>1</th>\n",
       "      <td>2415</td>\n",
       "      <td>ROCCO</td>\n",
       "      <td>M</td>\n",
       "      <td>10/01/2011 12:00:00 AM</td>\n",
       "      <td>Boxer</td>\n",
       "      <td>Brooklyn</td>\n",
       "      <td>11210.0</td>\n",
       "      <td>314.0</td>\n",
       "      <td>756.0</td>\n",
       "      <td>BK43</td>\n",
       "      <td>45.0</td>\n",
       "      <td>9.0</td>\n",
       "      <td>17.0</td>\n",
       "      <td>01/07/2015</td>\n",
       "      <td>01/30/2016</td>\n",
       "    </tr>\n",
       "    <tr>\n",
       "      <th>2</th>\n",
       "      <td>3328</td>\n",
       "      <td>LUIGI</td>\n",
       "      <td>M</td>\n",
       "      <td>09/01/2005 12:00:00 AM</td>\n",
       "      <td>Maltese</td>\n",
       "      <td>Bronx</td>\n",
       "      <td>10464.0</td>\n",
       "      <td>210.0</td>\n",
       "      <td>516.0</td>\n",
       "      <td>BX10</td>\n",
       "      <td>13.0</td>\n",
       "      <td>14.0</td>\n",
       "      <td>34.0</td>\n",
       "      <td>01/17/2015</td>\n",
       "      <td>02/02/2016</td>\n",
       "    </tr>\n",
       "    <tr>\n",
       "      <th>3</th>\n",
       "      <td>7537</td>\n",
       "      <td>PETUNIA</td>\n",
       "      <td>F</td>\n",
       "      <td>08/01/2013 12:00:00 AM</td>\n",
       "      <td>Pug</td>\n",
       "      <td>Brooklyn</td>\n",
       "      <td>11221.0</td>\n",
       "      <td>304.0</td>\n",
       "      <td>419.0</td>\n",
       "      <td>BK78</td>\n",
       "      <td>34.0</td>\n",
       "      <td>7.0</td>\n",
       "      <td>18.0</td>\n",
       "      <td>03/01/2015</td>\n",
       "      <td>03/28/2016</td>\n",
       "    </tr>\n",
       "    <tr>\n",
       "      <th>4</th>\n",
       "      <td>8487</td>\n",
       "      <td>ROMEO</td>\n",
       "      <td>M</td>\n",
       "      <td>10/01/2008 12:00:00 AM</td>\n",
       "      <td>Maltese</td>\n",
       "      <td>Bronx</td>\n",
       "      <td>10451.0</td>\n",
       "      <td>201.0</td>\n",
       "      <td>65.0</td>\n",
       "      <td>BX34</td>\n",
       "      <td>17.0</td>\n",
       "      <td>15.0</td>\n",
       "      <td>32.0</td>\n",
       "      <td>03/09/2015</td>\n",
       "      <td>03/09/2016</td>\n",
       "    </tr>\n",
       "  </tbody>\n",
       "</table>\n",
       "</div>"
      ],
      "text/plain": [
       "   RowNumber AnimalName AnimalGender        AnimalBirthMonth BreedName  \\\n",
       "0       1753    SHADOW             M  01/01/2000 12:00:00 AM    Beagle   \n",
       "1       2415      ROCCO            M  10/01/2011 12:00:00 AM     Boxer   \n",
       "2       3328      LUIGI            M  09/01/2005 12:00:00 AM   Maltese   \n",
       "3       7537    PETUNIA            F  08/01/2013 12:00:00 AM       Pug   \n",
       "4       8487      ROMEO            M  10/01/2008 12:00:00 AM   Maltese   \n",
       "\n",
       "    Borough  ZipCode  CommunityDistrict  CensusTract2010   NTA  \\\n",
       "0  Brooklyn  11236.0              318.0           1014.0  BK50   \n",
       "1  Brooklyn  11210.0              314.0            756.0  BK43   \n",
       "2     Bronx  10464.0              210.0            516.0  BX10   \n",
       "3  Brooklyn  11221.0              304.0            419.0  BK78   \n",
       "4     Bronx  10451.0              201.0             65.0  BX34   \n",
       "\n",
       "   CityCouncilDistrict  CongressionalDistrict  StateSenatorialDistrict  \\\n",
       "0                 46.0                    8.0                     19.0   \n",
       "1                 45.0                    9.0                     17.0   \n",
       "2                 13.0                   14.0                     34.0   \n",
       "3                 34.0                    7.0                     18.0   \n",
       "4                 17.0                   15.0                     32.0   \n",
       "\n",
       "  LicenseIssuedDate LicenseExpiredDate  \n",
       "0        12/29/2014         01/30/2016  \n",
       "1        01/07/2015         01/30/2016  \n",
       "2        01/17/2015         02/02/2016  \n",
       "3        03/01/2015         03/28/2016  \n",
       "4        03/09/2015         03/09/2016  "
      ]
     },
     "execution_count": 62,
     "metadata": {},
     "output_type": "execute_result"
    }
   ],
   "source": [
    "nyc_dataset.head()"
   ]
  },
  {
   "cell_type": "code",
   "execution_count": 63,
   "metadata": {},
   "outputs": [
    {
     "name": "stdout",
     "output_type": "stream",
     "text": [
      "<class 'pandas.core.frame.DataFrame'>\n",
      "RangeIndex: 121949 entries, 0 to 121948\n",
      "Data columns (total 15 columns):\n",
      "RowNumber                  121949 non-null int64\n",
      "AnimalName                 121714 non-null object\n",
      "AnimalGender               121948 non-null object\n",
      "AnimalBirthMonth           121948 non-null object\n",
      "BreedName                  121948 non-null object\n",
      "Borough                    121948 non-null object\n",
      "ZipCode                    121948 non-null float64\n",
      "CommunityDistrict          118612 non-null float64\n",
      "CensusTract2010            118612 non-null float64\n",
      "NTA                        118612 non-null object\n",
      "CityCouncilDistrict        118612 non-null float64\n",
      "CongressionalDistrict      118612 non-null float64\n",
      "StateSenatorialDistrict    118612 non-null float64\n",
      "LicenseIssuedDate          121948 non-null object\n",
      "LicenseExpiredDate         121948 non-null object\n",
      "dtypes: float64(6), int64(1), object(8)\n",
      "memory usage: 10.2+ MB\n"
     ]
    }
   ],
   "source": [
    "nyc_dataset.info()"
   ]
  },
  {
   "cell_type": "markdown",
   "metadata": {},
   "source": [
    "Will it be interesting to know what the most popular dog name is? In the previous dataset, we didn't have this information."
   ]
  },
  {
   "cell_type": "code",
   "execution_count": 64,
   "metadata": {},
   "outputs": [
    {
     "data": {
      "text/plain": [
       "AnimalName\n",
       "UNKNOWN              2467\n",
       "NAME NOT PROVIDED    1764\n",
       "BELLA                1008\n",
       "MAX                  1001\n",
       "CHARLIE               750\n",
       "LOLA                  686\n",
       "ROCKY                 668\n",
       "COCO                  642\n",
       "LUCY                  581\n",
       "BUDDY                 559\n",
       "LUCKY                 551\n",
       "DAISY                 507\n",
       "LUNA                  464\n",
       "BAILEY                429\n",
       "PRINCESS              428\n",
       "CHLOE                 419\n",
       "TEDDY                 417\n",
       "TOBY                  415\n",
       "MOLLY                 411\n",
       "JACK                  351\n",
       "dtype: int64"
      ]
     },
     "execution_count": 64,
     "metadata": {},
     "output_type": "execute_result"
    }
   ],
   "source": [
    "nyc_dataset.groupby('AnimalName').size().sort_values(ascending = False).head(20)"
   ]
  },
  {
   "cell_type": "markdown",
   "metadata": {},
   "source": [
    "**BELLA** and **MAX** are the most popular dogs names in NYC for 2016!\n",
    "\n",
    "We have a large amount of data for exploring. The dataset is almost full, but we have a small amount of NaN values that will ease the analysis. We are mostly interested in the `BreedName` column. We will explore it first and add intelligence and rank popularity to see if there will be any grouping differences compared to the previous dataset."
   ]
  },
  {
   "cell_type": "code",
   "execution_count": 65,
   "metadata": {},
   "outputs": [],
   "source": [
    "# rename column name and uppercase its values\n",
    "\n",
    "nyc_dataset.rename(columns={'BreedName':'breed'}, inplace=True)\n",
    "nyc_dataset.breed = nyc_dataset.breed.str.upper() "
   ]
  },
  {
   "cell_type": "code",
   "execution_count": 66,
   "metadata": {},
   "outputs": [
    {
     "data": {
      "text/plain": [
       "RowNumber                  16763\n",
       "AnimalName                 16763\n",
       "AnimalGender               16763\n",
       "AnimalBirthMonth           16763\n",
       "breed                      16763\n",
       "Borough                    16763\n",
       "ZipCode                    16763\n",
       "CommunityDistrict          16322\n",
       "CensusTract2010            16322\n",
       "NTA                        16322\n",
       "CityCouncilDistrict        16322\n",
       "CongressionalDistrict      16322\n",
       "StateSenatorialDistrict    16322\n",
       "LicenseIssuedDate          16763\n",
       "LicenseExpiredDate         16763\n",
       "dtype: int64"
      ]
     },
     "execution_count": 66,
     "metadata": {},
     "output_type": "execute_result"
    }
   ],
   "source": [
    "# explore breed column\n",
    "\n",
    "nyc_dataset[nyc_dataset.breed == \"UNKNOWN\"].count()"
   ]
  },
  {
   "cell_type": "code",
   "execution_count": 67,
   "metadata": {},
   "outputs": [
    {
     "data": {
      "text/html": [
       "<div>\n",
       "<style scoped>\n",
       "    .dataframe tbody tr th:only-of-type {\n",
       "        vertical-align: middle;\n",
       "    }\n",
       "\n",
       "    .dataframe tbody tr th {\n",
       "        vertical-align: top;\n",
       "    }\n",
       "\n",
       "    .dataframe thead th {\n",
       "        text-align: right;\n",
       "    }\n",
       "</style>\n",
       "<table border=\"1\" class=\"dataframe\">\n",
       "  <thead>\n",
       "    <tr style=\"text-align: right;\">\n",
       "      <th></th>\n",
       "      <th>RowNumber</th>\n",
       "      <th>AnimalName</th>\n",
       "      <th>AnimalGender</th>\n",
       "      <th>AnimalBirthMonth</th>\n",
       "      <th>breed</th>\n",
       "      <th>Borough</th>\n",
       "      <th>ZipCode</th>\n",
       "      <th>CommunityDistrict</th>\n",
       "      <th>CensusTract2010</th>\n",
       "      <th>NTA</th>\n",
       "      <th>CityCouncilDistrict</th>\n",
       "      <th>CongressionalDistrict</th>\n",
       "      <th>StateSenatorialDistrict</th>\n",
       "      <th>LicenseIssuedDate</th>\n",
       "      <th>LicenseExpiredDate</th>\n",
       "    </tr>\n",
       "  </thead>\n",
       "  <tbody>\n",
       "    <tr>\n",
       "      <th>51860</th>\n",
       "      <td>51790</td>\n",
       "      <td>BLU \\tM\\t10/01/2015\\t1\\tMaltese\\tBronx\\t10473\\...</td>\n",
       "      <td>NaN</td>\n",
       "      <td>NaN</td>\n",
       "      <td>NaN</td>\n",
       "      <td>NaN</td>\n",
       "      <td>NaN</td>\n",
       "      <td>NaN</td>\n",
       "      <td>NaN</td>\n",
       "      <td>NaN</td>\n",
       "      <td>NaN</td>\n",
       "      <td>NaN</td>\n",
       "      <td>NaN</td>\n",
       "      <td>NaN</td>\n",
       "      <td>NaN</td>\n",
       "    </tr>\n",
       "  </tbody>\n",
       "</table>\n",
       "</div>"
      ],
      "text/plain": [
       "       RowNumber                                         AnimalName  \\\n",
       "51860      51790  BLU \\tM\\t10/01/2015\\t1\\tMaltese\\tBronx\\t10473\\...   \n",
       "\n",
       "      AnimalGender AnimalBirthMonth breed Borough  ZipCode  CommunityDistrict  \\\n",
       "51860          NaN              NaN   NaN     NaN      NaN                NaN   \n",
       "\n",
       "       CensusTract2010  NTA  CityCouncilDistrict  CongressionalDistrict  \\\n",
       "51860              NaN  NaN                  NaN                    NaN   \n",
       "\n",
       "       StateSenatorialDistrict LicenseIssuedDate LicenseExpiredDate  \n",
       "51860                      NaN               NaN                NaN  "
      ]
     },
     "execution_count": 67,
     "metadata": {},
     "output_type": "execute_result"
    }
   ],
   "source": [
    "nyc_dataset[nyc_dataset.breed.isna()]"
   ]
  },
  {
   "cell_type": "markdown",
   "metadata": {},
   "source": [
    "Unfortunately, the dataset contains a lot of **UKNOWN** values in `breed` column and there is nothing to do about it except to drop this values. "
   ]
  },
  {
   "cell_type": "code",
   "execution_count": 68,
   "metadata": {},
   "outputs": [],
   "source": [
    "# take only rows with breed names known and non Nan values\n",
    "\n",
    "nyc_dataset = nyc_dataset[nyc_dataset.breed != \"UNKNOWN\"]\n",
    "nyc_dataset = nyc_dataset[nyc_dataset.RowNumber != 51790]"
   ]
  },
  {
   "cell_type": "code",
   "execution_count": 69,
   "metadata": {},
   "outputs": [
    {
     "data": {
      "image/png": "[encoded data removed]",
      "text/plain": [
       "<Figure size 720x288 with 1 Axes>"
      ]
     },
     "metadata": {},
     "output_type": "display_data"
    }
   ],
   "source": [
    "barh(nyc_dataset, 'breed', 'Breed popularity in NYC', 'Count')"
   ]
  },
  {
   "cell_type": "markdown",
   "metadata": {},
   "source": [
    "The chart gives a lot of information. First of all, we see that the most common breeds have small sizes: **YORKSHIRE TERRIER**, **SHIH TZU**, **CHIHUAHUA**, **MALTESE**, followed by the top 2 breeds from the Animal Services dataset: **LABRADOR RETRIEVER**/ LABRADOR RETRIEVER CROSSBREED, **AMERICAN STAFFORSHIRE TERRIER** / AMERICAN PIT BULL MIX / AMERICAN PIT BULL TERRIER. \n",
    "As there are some crossbreeds but they have characteristics of primary breed, we will take mixes as primary breed and see what will happen."
   ]
  },
  {
   "cell_type": "code",
   "execution_count": 70,
   "metadata": {},
   "outputs": [],
   "source": [
    "# update some breed names\n",
    "\n",
    "nyc_dataset.breed.replace({\n",
    "    'LABRADOR RETRIEVER CROSSBREED': 'LABRADOR RETRIEVER',\n",
    "    'GOLDEN RETRIEVER':'LABRADOR RETRIEVER',\n",
    "    'AMERICAN PIT BULL MIX / PIT BULL MIX':'AMERICAN STAFFORDSHIRE TERRIER',\n",
    "    'AMERICAN PIT BULL TERRIER/PIT BULL':'AMERICAN STAFFORDSHIRE TERRIER',\n",
    "    'POODLE, STANDARD':'POODLE',\n",
    "    'POODLE, MINIATURE':'POODLE',\n",
    "    'DACHSHUND SMOOTH COAT MINIATURE':'DACHSHUND',\n",
    "    'AKITA CROSSBREED':'AKITA',\n",
    "    'BULL DOG, FRENCH':'FRENCH BULLDOG'\n",
    "}, inplace = True)"
   ]
  },
  {
   "cell_type": "code",
   "execution_count": 71,
   "metadata": {},
   "outputs": [
    {
     "data": {
      "image/png": "[encoded data removed]",
      "text/plain": [
       "<Figure size 720x288 with 1 Axes>"
      ]
     },
     "metadata": {},
     "output_type": "display_data"
    }
   ],
   "source": [
    "barh(nyc_dataset, 'breed', 'Breed popularity in NYC after grouping', 'Count')"
   ]
  },
  {
   "cell_type": "markdown",
   "metadata": {},
   "source": [
    "Now the picture is different! **LABRADOR RETRIEVER** again takes the first place but **AMERICAN STAFFORDSHIRE TERRIER** is now on the 4th place. That definitely means that there is one more factor which influences people's choices - the **dogs size** (preferably **small**). \n",
    "\n",
    "For the purposes of this project we will take the first 10 most common breeds of NYC dataset and will look into their breed popularity and intelligence ranks."
   ]
  },
  {
   "cell_type": "code",
   "execution_count": 72,
   "metadata": {},
   "outputs": [
    {
     "data": {
      "text/plain": [
       "Index(['LABRADOR RETRIEVER', 'YORKSHIRE TERRIER', 'SHIH TZU',\n",
       "       'AMERICAN STAFFORDSHIRE TERRIER', 'CHIHUAHUA', 'MALTESE', 'POODLE',\n",
       "       'POMERANIAN', 'FRENCH BULLDOG', 'BEAGLE'],\n",
       "      dtype='object', name='breed')"
      ]
     },
     "execution_count": 72,
     "metadata": {},
     "output_type": "execute_result"
    }
   ],
   "source": [
    "# select top10 breeds\n",
    "\n",
    "top_list = nyc_dataset.groupby('breed').size().sort_values(ascending = False).head(10).index\n",
    "top_list"
   ]
  },
  {
   "cell_type": "code",
   "execution_count": 73,
   "metadata": {},
   "outputs": [],
   "source": [
    "# select only rows with top10 breeds\n",
    "\n",
    "nyc_dataset = nyc_dataset.loc[nyc_dataset['breed'].isin(top_list)]"
   ]
  },
  {
   "cell_type": "code",
   "execution_count": 74,
   "metadata": {},
   "outputs": [
    {
     "name": "stdout",
     "output_type": "stream",
     "text": [
      "<class 'pandas.core.frame.DataFrame'>\n",
      "Int64Index: 50259 entries, 0 to 121947\n",
      "Data columns (total 15 columns):\n",
      "RowNumber                  50259 non-null int64\n",
      "AnimalName                 50179 non-null object\n",
      "AnimalGender               50259 non-null object\n",
      "AnimalBirthMonth           50259 non-null object\n",
      "breed                      50259 non-null object\n",
      "Borough                    50259 non-null object\n",
      "ZipCode                    50259 non-null float64\n",
      "CommunityDistrict          48780 non-null float64\n",
      "CensusTract2010            48780 non-null float64\n",
      "NTA                        48780 non-null object\n",
      "CityCouncilDistrict        48780 non-null float64\n",
      "CongressionalDistrict      48780 non-null float64\n",
      "StateSenatorialDistrict    48780 non-null float64\n",
      "LicenseIssuedDate          50259 non-null object\n",
      "LicenseExpiredDate         50259 non-null object\n",
      "dtypes: float64(6), int64(1), object(8)\n",
      "memory usage: 4.6+ MB\n"
     ]
    }
   ],
   "source": [
    "nyc_dataset.info()"
   ]
  },
  {
   "cell_type": "markdown",
   "metadata": {},
   "source": [
    "### Add popularity and intelligence ranks\n",
    "\n",
    "Now we will take the popularity ranks for 2016 and will add them to `nyc_dataset`."
   ]
  },
  {
   "cell_type": "code",
   "execution_count": 75,
   "metadata": {},
   "outputs": [
    {
     "data": {
      "text/plain": [
       "popularity_rank\n",
       "0    32\n",
       "1    31\n",
       "2    32\n",
       "3    31\n",
       "4    31\n",
       "5    32\n",
       "dtype: int64"
      ]
     },
     "execution_count": 75,
     "metadata": {},
     "output_type": "execute_result"
    }
   ],
   "source": [
    "# select ranks for 2016 year from popularity dataset\n",
    "\n",
    "breeds_popularity = popularity_rank(breeds_popularity_data, 2016, 6)\n",
    "breeds_popularity.groupby('popularity_rank').size()"
   ]
  },
  {
   "cell_type": "code",
   "execution_count": 76,
   "metadata": {
    "scrolled": true
   },
   "outputs": [
    {
     "name": "stdout",
     "output_type": "stream",
     "text": [
      "<class 'pandas.core.frame.DataFrame'>\n",
      "Int64Index: 59169 entries, 0 to 59168\n",
      "Data columns (total 17 columns):\n",
      "RowNumber                  59169 non-null int64\n",
      "AnimalName                 59086 non-null object\n",
      "AnimalGender               59169 non-null object\n",
      "AnimalBirthMonth           59169 non-null object\n",
      "breed                      59169 non-null object\n",
      "Borough                    59169 non-null object\n",
      "ZipCode                    59169 non-null float64\n",
      "CommunityDistrict          57471 non-null float64\n",
      "CensusTract2010            57471 non-null float64\n",
      "NTA                        57471 non-null object\n",
      "CityCouncilDistrict        57471 non-null float64\n",
      "CongressionalDistrict      57471 non-null float64\n",
      "StateSenatorialDistrict    57471 non-null float64\n",
      "LicenseIssuedDate          59169 non-null object\n",
      "LicenseExpiredDate         59169 non-null object\n",
      "popularity_rank            59169 non-null int64\n",
      "intelligence_rank          59169 non-null int8\n",
      "dtypes: float64(6), int64(2), int8(1), object(8)\n",
      "memory usage: 5.9+ MB\n"
     ]
    }
   ],
   "source": [
    "# add popularity and intelligence ranks \n",
    "\n",
    "nyc_dataset = nyc_dataset.merge(breeds_popularity, on=\"breed\", how='left')\n",
    "nyc_dataset = nyc_dataset.merge(breads_intelligence, on=\"breed\", how='left')\n",
    "nyc_dataset.info()"
   ]
  },
  {
   "cell_type": "markdown",
   "metadata": {},
   "source": [
    "All breeds have got ranks of popularity (from 0 - most popular to 5 - least popular) and intelligence (from 0 - brightest to 5 - dummiest). In total, we have 59,169 observations. Does observation number (frequency) per breed equal breed popularity provided by AKC?"
   ]
  },
  {
   "cell_type": "code",
   "execution_count": 77,
   "metadata": {},
   "outputs": [
    {
     "data": {
      "text/html": [
       "<div>\n",
       "<style scoped>\n",
       "    .dataframe tbody tr th:only-of-type {\n",
       "        vertical-align: middle;\n",
       "    }\n",
       "\n",
       "    .dataframe tbody tr th {\n",
       "        vertical-align: top;\n",
       "    }\n",
       "\n",
       "    .dataframe thead th {\n",
       "        text-align: right;\n",
       "    }\n",
       "</style>\n",
       "<table border=\"1\" class=\"dataframe\">\n",
       "  <thead>\n",
       "    <tr style=\"text-align: right;\">\n",
       "      <th></th>\n",
       "      <th>popularity_rank</th>\n",
       "      <th>breed</th>\n",
       "      <th>0</th>\n",
       "    </tr>\n",
       "  </thead>\n",
       "  <tbody>\n",
       "    <tr>\n",
       "      <th>0</th>\n",
       "      <td>0</td>\n",
       "      <td>LABRADOR RETRIEVER</td>\n",
       "      <td>17820</td>\n",
       "    </tr>\n",
       "    <tr>\n",
       "      <th>1</th>\n",
       "      <td>0</td>\n",
       "      <td>YORKSHIRE TERRIER</td>\n",
       "      <td>7773</td>\n",
       "    </tr>\n",
       "    <tr>\n",
       "      <th>2</th>\n",
       "      <td>0</td>\n",
       "      <td>SHIH TZU</td>\n",
       "      <td>7141</td>\n",
       "    </tr>\n",
       "    <tr>\n",
       "      <th>3</th>\n",
       "      <td>2</td>\n",
       "      <td>AMERICAN STAFFORDSHIRE TERRIER</td>\n",
       "      <td>6742</td>\n",
       "    </tr>\n",
       "    <tr>\n",
       "      <th>4</th>\n",
       "      <td>0</td>\n",
       "      <td>CHIHUAHUA</td>\n",
       "      <td>5771</td>\n",
       "    </tr>\n",
       "    <tr>\n",
       "      <th>5</th>\n",
       "      <td>1</td>\n",
       "      <td>MALTESE</td>\n",
       "      <td>4292</td>\n",
       "    </tr>\n",
       "    <tr>\n",
       "      <th>6</th>\n",
       "      <td>0</td>\n",
       "      <td>POODLE</td>\n",
       "      <td>3169</td>\n",
       "    </tr>\n",
       "    <tr>\n",
       "      <th>7</th>\n",
       "      <td>0</td>\n",
       "      <td>POMERANIAN</td>\n",
       "      <td>2195</td>\n",
       "    </tr>\n",
       "    <tr>\n",
       "      <th>8</th>\n",
       "      <td>0</td>\n",
       "      <td>FRENCH BULLDOG</td>\n",
       "      <td>2160</td>\n",
       "    </tr>\n",
       "    <tr>\n",
       "      <th>9</th>\n",
       "      <td>0</td>\n",
       "      <td>BEAGLE</td>\n",
       "      <td>2106</td>\n",
       "    </tr>\n",
       "  </tbody>\n",
       "</table>\n",
       "</div>"
      ],
      "text/plain": [
       "   popularity_rank                           breed      0\n",
       "0                0              LABRADOR RETRIEVER  17820\n",
       "1                0               YORKSHIRE TERRIER   7773\n",
       "2                0                        SHIH TZU   7141\n",
       "3                2  AMERICAN STAFFORDSHIRE TERRIER   6742\n",
       "4                0                       CHIHUAHUA   5771\n",
       "5                1                         MALTESE   4292\n",
       "6                0                          POODLE   3169\n",
       "7                0                      POMERANIAN   2195\n",
       "8                0                  FRENCH BULLDOG   2160\n",
       "9                0                          BEAGLE   2106"
      ]
     },
     "execution_count": 77,
     "metadata": {},
     "output_type": "execute_result"
    }
   ],
   "source": [
    "nyc_popularity_ranks = nyc_dataset.groupby(['popularity_rank', 'breed']).size().sort_values(ascending = False).reset_index()\n",
    "nyc_popularity_ranks"
   ]
  },
  {
   "cell_type": "code",
   "execution_count": 78,
   "metadata": {},
   "outputs": [
    {
     "name": "stdout",
     "output_type": "stream",
     "text": [
      "Most dogs at NYC dataset have AKC popularity rank: 0\n",
      "Their percentage is: 81.4%\n"
     ]
    }
   ],
   "source": [
    "print(\"Most dogs at NYC dataset have AKC popularity rank: {}\".format(nyc_dataset.groupby(['popularity_rank']).size().reset_index().popularity_rank[0]))\n",
    "print(\"Their percentage is: {}%\".format(round(nyc_dataset.groupby(['popularity_rank']).size()[0]/nyc_dataset.groupby(['popularity_rank']).size().sum()*100, 1)))"
   ]
  },
  {
   "cell_type": "code",
   "execution_count": 79,
   "metadata": {},
   "outputs": [
    {
     "data": {
      "text/html": [
       "<div>\n",
       "<style scoped>\n",
       "    .dataframe tbody tr th:only-of-type {\n",
       "        vertical-align: middle;\n",
       "    }\n",
       "\n",
       "    .dataframe tbody tr th {\n",
       "        vertical-align: top;\n",
       "    }\n",
       "\n",
       "    .dataframe thead th {\n",
       "        text-align: right;\n",
       "    }\n",
       "</style>\n",
       "<table border=\"1\" class=\"dataframe\">\n",
       "  <thead>\n",
       "    <tr style=\"text-align: right;\">\n",
       "      <th></th>\n",
       "      <th>intelligence_rank</th>\n",
       "      <th>breed</th>\n",
       "      <th>0</th>\n",
       "    </tr>\n",
       "  </thead>\n",
       "  <tbody>\n",
       "    <tr>\n",
       "      <th>0</th>\n",
       "      <td>0</td>\n",
       "      <td>LABRADOR RETRIEVER</td>\n",
       "      <td>17820</td>\n",
       "    </tr>\n",
       "    <tr>\n",
       "      <th>1</th>\n",
       "      <td>2</td>\n",
       "      <td>YORKSHIRE TERRIER</td>\n",
       "      <td>7773</td>\n",
       "    </tr>\n",
       "    <tr>\n",
       "      <th>2</th>\n",
       "      <td>5</td>\n",
       "      <td>SHIH TZU</td>\n",
       "      <td>7141</td>\n",
       "    </tr>\n",
       "    <tr>\n",
       "      <th>3</th>\n",
       "      <td>2</td>\n",
       "      <td>AMERICAN STAFFORDSHIRE TERRIER</td>\n",
       "      <td>6742</td>\n",
       "    </tr>\n",
       "    <tr>\n",
       "      <th>4</th>\n",
       "      <td>4</td>\n",
       "      <td>CHIHUAHUA</td>\n",
       "      <td>5771</td>\n",
       "    </tr>\n",
       "    <tr>\n",
       "      <th>5</th>\n",
       "      <td>4</td>\n",
       "      <td>MALTESE</td>\n",
       "      <td>4292</td>\n",
       "    </tr>\n",
       "    <tr>\n",
       "      <th>6</th>\n",
       "      <td>0</td>\n",
       "      <td>POODLE</td>\n",
       "      <td>3169</td>\n",
       "    </tr>\n",
       "    <tr>\n",
       "      <th>7</th>\n",
       "      <td>1</td>\n",
       "      <td>POMERANIAN</td>\n",
       "      <td>2195</td>\n",
       "    </tr>\n",
       "    <tr>\n",
       "      <th>8</th>\n",
       "      <td>4</td>\n",
       "      <td>FRENCH BULLDOG</td>\n",
       "      <td>2160</td>\n",
       "    </tr>\n",
       "    <tr>\n",
       "      <th>9</th>\n",
       "      <td>5</td>\n",
       "      <td>BEAGLE</td>\n",
       "      <td>2106</td>\n",
       "    </tr>\n",
       "  </tbody>\n",
       "</table>\n",
       "</div>"
      ],
      "text/plain": [
       "   intelligence_rank                           breed      0\n",
       "0                  0              LABRADOR RETRIEVER  17820\n",
       "1                  2               YORKSHIRE TERRIER   7773\n",
       "2                  5                        SHIH TZU   7141\n",
       "3                  2  AMERICAN STAFFORDSHIRE TERRIER   6742\n",
       "4                  4                       CHIHUAHUA   5771\n",
       "5                  4                         MALTESE   4292\n",
       "6                  0                          POODLE   3169\n",
       "7                  1                      POMERANIAN   2195\n",
       "8                  4                  FRENCH BULLDOG   2160\n",
       "9                  5                          BEAGLE   2106"
      ]
     },
     "execution_count": 79,
     "metadata": {},
     "output_type": "execute_result"
    }
   ],
   "source": [
    "nyc_popularity_ranks = nyc_dataset.groupby(['intelligence_rank', 'breed']).size().sort_values(ascending = False).reset_index()\n",
    "nyc_popularity_ranks"
   ]
  },
  {
   "cell_type": "code",
   "execution_count": 80,
   "metadata": {},
   "outputs": [
    {
     "name": "stdout",
     "output_type": "stream",
     "text": [
      "Most dogs at NYC dataset have intelligence rank: 0\n",
      "Their percentage is: 35.5%\n"
     ]
    }
   ],
   "source": [
    "print(\"Most dogs at NYC dataset have intelligence rank: {}\".format(nyc_dataset.groupby(['intelligence_rank']).size().reset_index().intelligence_rank[0]))\n",
    "print(\"Their percentage is: {}%\".format(round(nyc_dataset.groupby(['intelligence_rank']).size().max()/nyc_dataset.groupby(['intelligence_rank']).size().sum()*100, 1)))"
   ]
  },
  {
   "cell_type": "markdown",
   "metadata": {},
   "source": [
    "# Conclusion\n",
    "\n",
    "Finally, we can make a conclusion that most New Yorkers like **small**, **cuttie** and **intelligent** dogs! \n",
    "On the other hand, we see that there is a difference between the two datasets: in the first one we couldn't notice the tendency for dog size maybe because this dataset represents \"extreme\" situation, when the animals are being abandoned by their owners or found in the streets. Maybe it is much easier for people to take care of a small pet without contacting Animal Services and that's why the percentage of the most common breed in NYC Yorkshire terrier is NOT significant in Animal Services dataset. But in a normal situation (NYC license dataset, which represents a dog care of New Yorkers) we see that dog size matters! The common thing in both datasets is that **people do prefer intelligent dogs**! This way, they influence the evolution of Canis lupus familiaris, whose members will over time become smaller and more intelligent. However, this is another matter, which can be investigated in the framework of the next course.\n",
    "\n",
    "Also, with a regret we can make a conclusion that there was a huge amount of irresponsible people, who surrender healthy pets to Animal Services for various reasons. The most common pets are dogs and cats, but there were some wild animals which were helped in difficult situations. We discovered that the most common outcome from Animal Services is euthanisation, while adoption takes the 2nd place in outcome popularity. It would be interesting to analyze this type of dataset sourced from Bulgaria but I haven't found any yet.\n",
    "\n",
    "\n",
    "# Rerefencies\n",
    "\n",
    "* [Loisville Animal Services](https://louisvilleky.gov/government/animal-services)\n",
    "* [Are dog size and intelligence linked?](https://data.world/sharon/what-is-the-correlation-between-dog-size-and-intelligence), the inspiration\n",
    "* [Ameriacan Kennel Club](https://www.akc.org/most-popular-breeds/)\n",
    "* [The Intelligence of Dogs](https://en.m.wikipedia.org/wiki/The_Intelligence_of_Dogs#cite_ref-ReferenceA_18-0), a research by Stanley Coren, a professor of canine psychology \n",
    "* [NYC Open Data](https://data.cityofnewyork.us/Health/NYC-Dog-Licensing-Dataset/nu7n-tubp), free public data portal published by New York City agencies\n",
    "* [CANNA PET](https://canna-pet.com/20-friendliest-dog-breeds/), 20 Friendliest Dog Breeds list\n",
    "* [Chi-square test](https://lit-review.ru/biostatistika/kriterijj-khi-kvadrat-pirsona/)\n",
    "* [Chi-Squared Test for Independence in Python](https://codingdisciple.com/chi-squared-python.html)\n"
   ]
  }
 ],
 "metadata": {
  "kernelspec": {
   "display_name": "Python 3",
   "language": "python",
   "name": "python3"
  },
  "language_info": {
   "codemirror_mode": {
    "name": "ipython",
    "version": 3
   },
   "file_extension": ".py",
   "mimetype": "text/x-python",
   "name": "python",
   "nbconvert_exporter": "python",
   "pygments_lexer": "ipython3",
   "version": "3.7.2"
  }
 },
 "nbformat": 4,
 "nbformat_minor": 2
}
